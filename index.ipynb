{
 "cells": [
  {
   "cell_type": "markdown",
   "metadata": {},
   "source": [
    "# Box Office Film Analysis For Microsoft Movie Studio\n",
    "\n",
    "**Author:** Samuel Kabati\n",
    "***"
   ]
  },
  {
   "cell_type": "markdown",
   "metadata": {},
   "source": [
    "## Overview\n",
    "\n",
    "This project analyzes film analytics in the box office. Exploratory analysis of the data shows the genres associated with an above average rating, as well as also investigating the relatonship between various variables in the dataset. Microsoft can use the analysis to understand what type of movies to start showing as well as the market they could target."
   ]
  },
  {
   "cell_type": "markdown",
   "metadata": {},
   "source": [
    "## Business Problem\n",
    "To start the movie studio, relevant and accurate information on various titles is required. This will in the log run help save on start-up costs for the movie studio by doing what works and avoiding the hit or miss. This is crucial as it could determine whether the movie studio becomes popular and successful or whether it ends up failing. I explore the data to find genres that may be the best to start with and also investigate relationships that might have an impact on ratings."
   ]
  },
  {
   "cell_type": "markdown",
   "metadata": {},
   "source": [
    "## Data Understanding\n",
    "\n",
    "The Box Office has a dataset on various movie titles. Every title has a unique id associated with its genre, start year, run time,original title, average rating and the number of votes ladng up to the rating."
   ]
  },
  {
   "cell_type": "code",
   "execution_count": 1,
   "metadata": {},
   "outputs": [],
   "source": [
    "import pandas as pd\n"
   ]
  },
  {
   "cell_type": "markdown",
   "metadata": {},
   "source": [
    "### Title Basics Data"
   ]
  },
  {
   "cell_type": "code",
   "execution_count": 2,
   "metadata": {},
   "outputs": [
    {
     "data": {
      "text/html": [
       "<div>\n",
       "<style scoped>\n",
       "    .dataframe tbody tr th:only-of-type {\n",
       "        vertical-align: middle;\n",
       "    }\n",
       "\n",
       "    .dataframe tbody tr th {\n",
       "        vertical-align: top;\n",
       "    }\n",
       "\n",
       "    .dataframe thead th {\n",
       "        text-align: right;\n",
       "    }\n",
       "</style>\n",
       "<table border=\"1\" class=\"dataframe\">\n",
       "  <thead>\n",
       "    <tr style=\"text-align: right;\">\n",
       "      <th></th>\n",
       "      <th>tconst</th>\n",
       "      <th>primary_title</th>\n",
       "      <th>original_title</th>\n",
       "      <th>start_year</th>\n",
       "      <th>runtime_minutes</th>\n",
       "      <th>genres</th>\n",
       "    </tr>\n",
       "  </thead>\n",
       "  <tbody>\n",
       "    <tr>\n",
       "      <th>0</th>\n",
       "      <td>tt0063540</td>\n",
       "      <td>Sunghursh</td>\n",
       "      <td>Sunghursh</td>\n",
       "      <td>2013</td>\n",
       "      <td>175.0</td>\n",
       "      <td>Action,Crime,Drama</td>\n",
       "    </tr>\n",
       "    <tr>\n",
       "      <th>1</th>\n",
       "      <td>tt0066787</td>\n",
       "      <td>One Day Before the Rainy Season</td>\n",
       "      <td>Ashad Ka Ek Din</td>\n",
       "      <td>2019</td>\n",
       "      <td>114.0</td>\n",
       "      <td>Biography,Drama</td>\n",
       "    </tr>\n",
       "    <tr>\n",
       "      <th>2</th>\n",
       "      <td>tt0069049</td>\n",
       "      <td>The Other Side of the Wind</td>\n",
       "      <td>The Other Side of the Wind</td>\n",
       "      <td>2018</td>\n",
       "      <td>122.0</td>\n",
       "      <td>Drama</td>\n",
       "    </tr>\n",
       "    <tr>\n",
       "      <th>3</th>\n",
       "      <td>tt0069204</td>\n",
       "      <td>Sabse Bada Sukh</td>\n",
       "      <td>Sabse Bada Sukh</td>\n",
       "      <td>2018</td>\n",
       "      <td>NaN</td>\n",
       "      <td>Comedy,Drama</td>\n",
       "    </tr>\n",
       "    <tr>\n",
       "      <th>4</th>\n",
       "      <td>tt0100275</td>\n",
       "      <td>The Wandering Soap Opera</td>\n",
       "      <td>La Telenovela Errante</td>\n",
       "      <td>2017</td>\n",
       "      <td>80.0</td>\n",
       "      <td>Comedy,Drama,Fantasy</td>\n",
       "    </tr>\n",
       "  </tbody>\n",
       "</table>\n",
       "</div>"
      ],
      "text/plain": [
       "      tconst                    primary_title              original_title  \\\n",
       "0  tt0063540                        Sunghursh                   Sunghursh   \n",
       "1  tt0066787  One Day Before the Rainy Season             Ashad Ka Ek Din   \n",
       "2  tt0069049       The Other Side of the Wind  The Other Side of the Wind   \n",
       "3  tt0069204                  Sabse Bada Sukh             Sabse Bada Sukh   \n",
       "4  tt0100275         The Wandering Soap Opera       La Telenovela Errante   \n",
       "\n",
       "   start_year  runtime_minutes                genres  \n",
       "0        2013            175.0    Action,Crime,Drama  \n",
       "1        2019            114.0       Biography,Drama  \n",
       "2        2018            122.0                 Drama  \n",
       "3        2018              NaN          Comedy,Drama  \n",
       "4        2017             80.0  Comedy,Drama,Fantasy  "
      ]
     },
     "execution_count": 2,
     "metadata": {},
     "output_type": "execute_result"
    }
   ],
   "source": [
    "title_basics=pd.read_csv('zippedData/imdb.title.basics.csv.gz')\n",
    "\n",
    "title_basics.head()"
   ]
  },
  {
   "cell_type": "code",
   "execution_count": 3,
   "metadata": {},
   "outputs": [
    {
     "name": "stdout",
     "output_type": "stream",
     "text": [
      "<class 'pandas.core.frame.DataFrame'>\n",
      "RangeIndex: 146144 entries, 0 to 146143\n",
      "Data columns (total 6 columns):\n",
      " #   Column           Non-Null Count   Dtype  \n",
      "---  ------           --------------   -----  \n",
      " 0   tconst           146144 non-null  object \n",
      " 1   primary_title    146144 non-null  object \n",
      " 2   original_title   146123 non-null  object \n",
      " 3   start_year       146144 non-null  int64  \n",
      " 4   runtime_minutes  114405 non-null  float64\n",
      " 5   genres           140736 non-null  object \n",
      "dtypes: float64(1), int64(1), object(4)\n",
      "memory usage: 6.7+ MB\n"
     ]
    }
   ],
   "source": [
    "title_basics.info()"
   ]
  },
  {
   "cell_type": "markdown",
   "metadata": {},
   "source": [
    "### Title Ratings Data"
   ]
  },
  {
   "cell_type": "code",
   "execution_count": 4,
   "metadata": {},
   "outputs": [
    {
     "data": {
      "text/html": [
       "<div>\n",
       "<style scoped>\n",
       "    .dataframe tbody tr th:only-of-type {\n",
       "        vertical-align: middle;\n",
       "    }\n",
       "\n",
       "    .dataframe tbody tr th {\n",
       "        vertical-align: top;\n",
       "    }\n",
       "\n",
       "    .dataframe thead th {\n",
       "        text-align: right;\n",
       "    }\n",
       "</style>\n",
       "<table border=\"1\" class=\"dataframe\">\n",
       "  <thead>\n",
       "    <tr style=\"text-align: right;\">\n",
       "      <th></th>\n",
       "      <th>tconst</th>\n",
       "      <th>averagerating</th>\n",
       "      <th>numvotes</th>\n",
       "    </tr>\n",
       "  </thead>\n",
       "  <tbody>\n",
       "    <tr>\n",
       "      <th>0</th>\n",
       "      <td>tt10356526</td>\n",
       "      <td>8.3</td>\n",
       "      <td>31</td>\n",
       "    </tr>\n",
       "    <tr>\n",
       "      <th>1</th>\n",
       "      <td>tt10384606</td>\n",
       "      <td>8.9</td>\n",
       "      <td>559</td>\n",
       "    </tr>\n",
       "    <tr>\n",
       "      <th>2</th>\n",
       "      <td>tt1042974</td>\n",
       "      <td>6.4</td>\n",
       "      <td>20</td>\n",
       "    </tr>\n",
       "    <tr>\n",
       "      <th>3</th>\n",
       "      <td>tt1043726</td>\n",
       "      <td>4.2</td>\n",
       "      <td>50352</td>\n",
       "    </tr>\n",
       "    <tr>\n",
       "      <th>4</th>\n",
       "      <td>tt1060240</td>\n",
       "      <td>6.5</td>\n",
       "      <td>21</td>\n",
       "    </tr>\n",
       "  </tbody>\n",
       "</table>\n",
       "</div>"
      ],
      "text/plain": [
       "       tconst  averagerating  numvotes\n",
       "0  tt10356526            8.3        31\n",
       "1  tt10384606            8.9       559\n",
       "2   tt1042974            6.4        20\n",
       "3   tt1043726            4.2     50352\n",
       "4   tt1060240            6.5        21"
      ]
     },
     "execution_count": 4,
     "metadata": {},
     "output_type": "execute_result"
    }
   ],
   "source": [
    "title_ratings=pd.read_csv('zippedData/imdb.title.ratings.csv.gz')\n",
    "\n",
    "title_ratings.head()"
   ]
  },
  {
   "cell_type": "code",
   "execution_count": 5,
   "metadata": {},
   "outputs": [
    {
     "name": "stdout",
     "output_type": "stream",
     "text": [
      "<class 'pandas.core.frame.DataFrame'>\n",
      "RangeIndex: 73856 entries, 0 to 73855\n",
      "Data columns (total 3 columns):\n",
      " #   Column         Non-Null Count  Dtype  \n",
      "---  ------         --------------  -----  \n",
      " 0   tconst         73856 non-null  object \n",
      " 1   averagerating  73856 non-null  float64\n",
      " 2   numvotes       73856 non-null  int64  \n",
      "dtypes: float64(1), int64(1), object(1)\n",
      "memory usage: 1.7+ MB\n"
     ]
    }
   ],
   "source": [
    "title_ratings.info()"
   ]
  },
  {
   "cell_type": "markdown",
   "metadata": {},
   "source": [
    "### Movie Gross Data"
   ]
  },
  {
   "cell_type": "code",
   "execution_count": 6,
   "metadata": {},
   "outputs": [
    {
     "data": {
      "text/html": [
       "<div>\n",
       "<style scoped>\n",
       "    .dataframe tbody tr th:only-of-type {\n",
       "        vertical-align: middle;\n",
       "    }\n",
       "\n",
       "    .dataframe tbody tr th {\n",
       "        vertical-align: top;\n",
       "    }\n",
       "\n",
       "    .dataframe thead th {\n",
       "        text-align: right;\n",
       "    }\n",
       "</style>\n",
       "<table border=\"1\" class=\"dataframe\">\n",
       "  <thead>\n",
       "    <tr style=\"text-align: right;\">\n",
       "      <th></th>\n",
       "      <th>title</th>\n",
       "      <th>studio</th>\n",
       "      <th>domestic_gross</th>\n",
       "      <th>foreign_gross</th>\n",
       "      <th>year</th>\n",
       "    </tr>\n",
       "  </thead>\n",
       "  <tbody>\n",
       "    <tr>\n",
       "      <th>0</th>\n",
       "      <td>Toy Story 3</td>\n",
       "      <td>BV</td>\n",
       "      <td>415000000.0</td>\n",
       "      <td>652000000</td>\n",
       "      <td>2010</td>\n",
       "    </tr>\n",
       "    <tr>\n",
       "      <th>1</th>\n",
       "      <td>Alice in Wonderland (2010)</td>\n",
       "      <td>BV</td>\n",
       "      <td>334200000.0</td>\n",
       "      <td>691300000</td>\n",
       "      <td>2010</td>\n",
       "    </tr>\n",
       "    <tr>\n",
       "      <th>2</th>\n",
       "      <td>Harry Potter and the Deathly Hallows Part 1</td>\n",
       "      <td>WB</td>\n",
       "      <td>296000000.0</td>\n",
       "      <td>664300000</td>\n",
       "      <td>2010</td>\n",
       "    </tr>\n",
       "    <tr>\n",
       "      <th>3</th>\n",
       "      <td>Inception</td>\n",
       "      <td>WB</td>\n",
       "      <td>292600000.0</td>\n",
       "      <td>535700000</td>\n",
       "      <td>2010</td>\n",
       "    </tr>\n",
       "    <tr>\n",
       "      <th>4</th>\n",
       "      <td>Shrek Forever After</td>\n",
       "      <td>P/DW</td>\n",
       "      <td>238700000.0</td>\n",
       "      <td>513900000</td>\n",
       "      <td>2010</td>\n",
       "    </tr>\n",
       "  </tbody>\n",
       "</table>\n",
       "</div>"
      ],
      "text/plain": [
       "                                         title studio  domestic_gross  \\\n",
       "0                                  Toy Story 3     BV     415000000.0   \n",
       "1                   Alice in Wonderland (2010)     BV     334200000.0   \n",
       "2  Harry Potter and the Deathly Hallows Part 1     WB     296000000.0   \n",
       "3                                    Inception     WB     292600000.0   \n",
       "4                          Shrek Forever After   P/DW     238700000.0   \n",
       "\n",
       "  foreign_gross  year  \n",
       "0     652000000  2010  \n",
       "1     691300000  2010  \n",
       "2     664300000  2010  \n",
       "3     535700000  2010  \n",
       "4     513900000  2010  "
      ]
     },
     "execution_count": 6,
     "metadata": {},
     "output_type": "execute_result"
    }
   ],
   "source": [
    "movie_gross=pd.read_csv('zippedData/bom.movie_gross.csv.gz')\n",
    "movie_gross.head()"
   ]
  },
  {
   "cell_type": "code",
   "execution_count": 7,
   "metadata": {},
   "outputs": [
    {
     "name": "stdout",
     "output_type": "stream",
     "text": [
      "<class 'pandas.core.frame.DataFrame'>\n",
      "RangeIndex: 3387 entries, 0 to 3386\n",
      "Data columns (total 5 columns):\n",
      " #   Column          Non-Null Count  Dtype  \n",
      "---  ------          --------------  -----  \n",
      " 0   title           3387 non-null   object \n",
      " 1   studio          3382 non-null   object \n",
      " 2   domestic_gross  3359 non-null   float64\n",
      " 3   foreign_gross   2037 non-null   object \n",
      " 4   year            3387 non-null   int64  \n",
      "dtypes: float64(1), int64(1), object(3)\n",
      "memory usage: 132.4+ KB\n"
     ]
    }
   ],
   "source": [
    "movie_gross.info()"
   ]
  },
  {
   "cell_type": "markdown",
   "metadata": {},
   "source": [
    "## Data preparation"
   ]
  },
  {
   "cell_type": "markdown",
   "metadata": {},
   "source": [
    "### Data Cleaning\n",
    "I make the data easier to work with by checking for null values and dealing with the missing data, checking for duplicates and renaming some columns."
   ]
  },
  {
   "cell_type": "markdown",
   "metadata": {},
   "source": [
    "#### Title Basics Data Cleaning "
   ]
  },
  {
   "cell_type": "code",
   "execution_count": 8,
   "metadata": {},
   "outputs": [
    {
     "name": "stdout",
     "output_type": "stream",
     "text": [
      "<class 'pandas.core.frame.DataFrame'>\n",
      "RangeIndex: 146144 entries, 0 to 146143\n",
      "Data columns (total 6 columns):\n",
      " #   Column           Non-Null Count   Dtype  \n",
      "---  ------           --------------   -----  \n",
      " 0   tconst           146144 non-null  object \n",
      " 1   primary_title    146144 non-null  object \n",
      " 2   original_title   146123 non-null  object \n",
      " 3   start_year       146144 non-null  int64  \n",
      " 4   runtime_minutes  114405 non-null  float64\n",
      " 5   genres           140736 non-null  object \n",
      "dtypes: float64(1), int64(1), object(4)\n",
      "memory usage: 6.7+ MB\n"
     ]
    }
   ],
   "source": [
    "title_basics.info()"
   ]
  },
  {
   "cell_type": "code",
   "execution_count": 9,
   "metadata": {},
   "outputs": [],
   "source": [
    "#replacing null values\n",
    "title_basics['original_title'].fillna('Unknown',inplace=True)\n",
    "\n",
    "title_basics['runtime_minutes'].fillna(title_basics['runtime_minutes'].median(),inplace=True)\n",
    "title_basics['genres'].fillna('Unknown',inplace=True)"
   ]
  },
  {
   "cell_type": "code",
   "execution_count": 10,
   "metadata": {},
   "outputs": [
    {
     "data": {
      "text/plain": [
       "tconst             0\n",
       "primary_title      0\n",
       "original_title     0\n",
       "start_year         0\n",
       "runtime_minutes    0\n",
       "genres             0\n",
       "dtype: int64"
      ]
     },
     "execution_count": 10,
     "metadata": {},
     "output_type": "execute_result"
    }
   ],
   "source": [
    "# Checking whether all columns are now filled \n",
    "title_basics.isna().sum()"
   ]
  },
  {
   "cell_type": "code",
   "execution_count": 11,
   "metadata": {},
   "outputs": [
    {
     "name": "stdout",
     "output_type": "stream",
     "text": [
      "0\n"
     ]
    },
    {
     "data": {
      "text/html": [
       "<div>\n",
       "<style scoped>\n",
       "    .dataframe tbody tr th:only-of-type {\n",
       "        vertical-align: middle;\n",
       "    }\n",
       "\n",
       "    .dataframe tbody tr th {\n",
       "        vertical-align: top;\n",
       "    }\n",
       "\n",
       "    .dataframe thead th {\n",
       "        text-align: right;\n",
       "    }\n",
       "</style>\n",
       "<table border=\"1\" class=\"dataframe\">\n",
       "  <thead>\n",
       "    <tr style=\"text-align: right;\">\n",
       "      <th></th>\n",
       "      <th>tconst</th>\n",
       "      <th>primary_title</th>\n",
       "      <th>original_title</th>\n",
       "      <th>start_year</th>\n",
       "      <th>runtime_minutes</th>\n",
       "      <th>genres</th>\n",
       "    </tr>\n",
       "  </thead>\n",
       "  <tbody>\n",
       "  </tbody>\n",
       "</table>\n",
       "</div>"
      ],
      "text/plain": [
       "Empty DataFrame\n",
       "Columns: [tconst, primary_title, original_title, start_year, runtime_minutes, genres]\n",
       "Index: []"
      ]
     },
     "execution_count": 11,
     "metadata": {},
     "output_type": "execute_result"
    }
   ],
   "source": [
    "#Checking for duplicates\n",
    "title_basics_duplicates=title_basics[title_basics.duplicated()]\n",
    "print(len(title_basics_duplicates))\n",
    "title_basics_duplicates.head()"
   ]
  },
  {
   "cell_type": "markdown",
   "metadata": {},
   "source": [
    "#### Title Ratings Data Cleaning "
   ]
  },
  {
   "cell_type": "code",
   "execution_count": 12,
   "metadata": {},
   "outputs": [
    {
     "name": "stdout",
     "output_type": "stream",
     "text": [
      "<class 'pandas.core.frame.DataFrame'>\n",
      "RangeIndex: 73856 entries, 0 to 73855\n",
      "Data columns (total 3 columns):\n",
      " #   Column         Non-Null Count  Dtype  \n",
      "---  ------         --------------  -----  \n",
      " 0   tconst         73856 non-null  object \n",
      " 1   averagerating  73856 non-null  float64\n",
      " 2   numvotes       73856 non-null  int64  \n",
      "dtypes: float64(1), int64(1), object(1)\n",
      "memory usage: 1.7+ MB\n"
     ]
    }
   ],
   "source": [
    "title_ratings.info()"
   ]
  },
  {
   "cell_type": "code",
   "execution_count": 13,
   "metadata": {},
   "outputs": [
    {
     "data": {
      "text/plain": [
       "tconst           0\n",
       "averagerating    0\n",
       "numvotes         0\n",
       "dtype: int64"
      ]
     },
     "execution_count": 13,
     "metadata": {},
     "output_type": "execute_result"
    }
   ],
   "source": [
    "#Checking for null values\n",
    "title_ratings.isna().sum()"
   ]
  },
  {
   "cell_type": "code",
   "execution_count": 14,
   "metadata": {},
   "outputs": [
    {
     "name": "stdout",
     "output_type": "stream",
     "text": [
      "0\n"
     ]
    },
    {
     "data": {
      "text/html": [
       "<div>\n",
       "<style scoped>\n",
       "    .dataframe tbody tr th:only-of-type {\n",
       "        vertical-align: middle;\n",
       "    }\n",
       "\n",
       "    .dataframe tbody tr th {\n",
       "        vertical-align: top;\n",
       "    }\n",
       "\n",
       "    .dataframe thead th {\n",
       "        text-align: right;\n",
       "    }\n",
       "</style>\n",
       "<table border=\"1\" class=\"dataframe\">\n",
       "  <thead>\n",
       "    <tr style=\"text-align: right;\">\n",
       "      <th></th>\n",
       "      <th>tconst</th>\n",
       "      <th>averagerating</th>\n",
       "      <th>numvotes</th>\n",
       "    </tr>\n",
       "  </thead>\n",
       "  <tbody>\n",
       "  </tbody>\n",
       "</table>\n",
       "</div>"
      ],
      "text/plain": [
       "Empty DataFrame\n",
       "Columns: [tconst, averagerating, numvotes]\n",
       "Index: []"
      ]
     },
     "execution_count": 14,
     "metadata": {},
     "output_type": "execute_result"
    }
   ],
   "source": [
    "#Checking for duplicates\n",
    "title_ratings_duplicates=title_ratings[title_ratings.duplicated()]\n",
    "print(len(title_ratings_duplicates))\n",
    "title_ratings_duplicates.head()"
   ]
  },
  {
   "cell_type": "markdown",
   "metadata": {},
   "source": [
    "#### Movie Gross Data Cleaning "
   ]
  },
  {
   "cell_type": "code",
   "execution_count": 15,
   "metadata": {},
   "outputs": [
    {
     "name": "stdout",
     "output_type": "stream",
     "text": [
      "<class 'pandas.core.frame.DataFrame'>\n",
      "RangeIndex: 3387 entries, 0 to 3386\n",
      "Data columns (total 5 columns):\n",
      " #   Column          Non-Null Count  Dtype  \n",
      "---  ------          --------------  -----  \n",
      " 0   title           3387 non-null   object \n",
      " 1   studio          3382 non-null   object \n",
      " 2   domestic_gross  3359 non-null   float64\n",
      " 3   foreign_gross   2037 non-null   object \n",
      " 4   year            3387 non-null   int64  \n",
      "dtypes: float64(1), int64(1), object(3)\n",
      "memory usage: 132.4+ KB\n"
     ]
    }
   ],
   "source": [
    "movie_gross.info()"
   ]
  },
  {
   "cell_type": "code",
   "execution_count": 16,
   "metadata": {},
   "outputs": [
    {
     "data": {
      "text/plain": [
       "dtype('float64')"
      ]
     },
     "execution_count": 16,
     "metadata": {},
     "output_type": "execute_result"
    }
   ],
   "source": [
    "# changing foreign gross to a numerical value\n",
    "movie_gross['foreign_gross'].replace(',','', regex=True, inplace=True)\n",
    "movie_gross['foreign_gross']=pd.to_numeric(movie_gross['foreign_gross'],errors = 'coerce')\n",
    "movie_gross['foreign_gross'].dtype"
   ]
  },
  {
   "cell_type": "code",
   "execution_count": 17,
   "metadata": {},
   "outputs": [],
   "source": [
    "#Replacing null values\n",
    "movie_gross['studio'].fillna('Unknown',inplace=True)\n",
    "\n",
    "movie_gross['domestic_gross'].fillna(movie_gross['domestic_gross'].median(),inplace=True)\n",
    "\n",
    "movie_gross['foreign_gross'].fillna(movie_gross['foreign_gross'].median(),inplace=True)"
   ]
  },
  {
   "cell_type": "code",
   "execution_count": 18,
   "metadata": {},
   "outputs": [
    {
     "data": {
      "text/plain": [
       "title             0\n",
       "studio            0\n",
       "domestic_gross    0\n",
       "foreign_gross     0\n",
       "year              0\n",
       "dtype: int64"
      ]
     },
     "execution_count": 18,
     "metadata": {},
     "output_type": "execute_result"
    }
   ],
   "source": [
    "#Checking for null values\n",
    "movie_gross.isna().sum()"
   ]
  },
  {
   "cell_type": "code",
   "execution_count": 19,
   "metadata": {},
   "outputs": [
    {
     "name": "stdout",
     "output_type": "stream",
     "text": [
      "0\n"
     ]
    },
    {
     "data": {
      "text/html": [
       "<div>\n",
       "<style scoped>\n",
       "    .dataframe tbody tr th:only-of-type {\n",
       "        vertical-align: middle;\n",
       "    }\n",
       "\n",
       "    .dataframe tbody tr th {\n",
       "        vertical-align: top;\n",
       "    }\n",
       "\n",
       "    .dataframe thead th {\n",
       "        text-align: right;\n",
       "    }\n",
       "</style>\n",
       "<table border=\"1\" class=\"dataframe\">\n",
       "  <thead>\n",
       "    <tr style=\"text-align: right;\">\n",
       "      <th></th>\n",
       "      <th>title</th>\n",
       "      <th>studio</th>\n",
       "      <th>domestic_gross</th>\n",
       "      <th>foreign_gross</th>\n",
       "      <th>year</th>\n",
       "    </tr>\n",
       "  </thead>\n",
       "  <tbody>\n",
       "  </tbody>\n",
       "</table>\n",
       "</div>"
      ],
      "text/plain": [
       "Empty DataFrame\n",
       "Columns: [title, studio, domestic_gross, foreign_gross, year]\n",
       "Index: []"
      ]
     },
     "execution_count": 19,
     "metadata": {},
     "output_type": "execute_result"
    }
   ],
   "source": [
    "# checking for duplicates\n",
    "movie_gross_duplicates=movie_gross[movie_gross.duplicated()]\n",
    "print(len(movie_gross_duplicates))\n",
    "movie_gross_duplicates.head()"
   ]
  },
  {
   "cell_type": "markdown",
   "metadata": {},
   "source": [
    "### Merging Datasets\n",
    "I merge the title basics and title ratings dataset using the title unique id `t_const`. "
   ]
  },
  {
   "cell_type": "code",
   "execution_count": 20,
   "metadata": {},
   "outputs": [
    {
     "data": {
      "text/html": [
       "<div>\n",
       "<style scoped>\n",
       "    .dataframe tbody tr th:only-of-type {\n",
       "        vertical-align: middle;\n",
       "    }\n",
       "\n",
       "    .dataframe tbody tr th {\n",
       "        vertical-align: top;\n",
       "    }\n",
       "\n",
       "    .dataframe thead th {\n",
       "        text-align: right;\n",
       "    }\n",
       "</style>\n",
       "<table border=\"1\" class=\"dataframe\">\n",
       "  <thead>\n",
       "    <tr style=\"text-align: right;\">\n",
       "      <th></th>\n",
       "      <th>tconst</th>\n",
       "      <th>primary_title</th>\n",
       "      <th>original_title</th>\n",
       "      <th>start_year</th>\n",
       "      <th>runtime_minutes</th>\n",
       "      <th>genres</th>\n",
       "      <th>averagerating</th>\n",
       "      <th>numvotes</th>\n",
       "    </tr>\n",
       "  </thead>\n",
       "  <tbody>\n",
       "    <tr>\n",
       "      <th>0</th>\n",
       "      <td>tt0063540</td>\n",
       "      <td>Sunghursh</td>\n",
       "      <td>Sunghursh</td>\n",
       "      <td>2013</td>\n",
       "      <td>175.0</td>\n",
       "      <td>Action,Crime,Drama</td>\n",
       "      <td>7.0</td>\n",
       "      <td>77.0</td>\n",
       "    </tr>\n",
       "    <tr>\n",
       "      <th>1</th>\n",
       "      <td>tt0066787</td>\n",
       "      <td>One Day Before the Rainy Season</td>\n",
       "      <td>Ashad Ka Ek Din</td>\n",
       "      <td>2019</td>\n",
       "      <td>114.0</td>\n",
       "      <td>Biography,Drama</td>\n",
       "      <td>7.2</td>\n",
       "      <td>43.0</td>\n",
       "    </tr>\n",
       "    <tr>\n",
       "      <th>2</th>\n",
       "      <td>tt0069049</td>\n",
       "      <td>The Other Side of the Wind</td>\n",
       "      <td>The Other Side of the Wind</td>\n",
       "      <td>2018</td>\n",
       "      <td>122.0</td>\n",
       "      <td>Drama</td>\n",
       "      <td>6.9</td>\n",
       "      <td>4517.0</td>\n",
       "    </tr>\n",
       "    <tr>\n",
       "      <th>3</th>\n",
       "      <td>tt0069204</td>\n",
       "      <td>Sabse Bada Sukh</td>\n",
       "      <td>Sabse Bada Sukh</td>\n",
       "      <td>2018</td>\n",
       "      <td>87.0</td>\n",
       "      <td>Comedy,Drama</td>\n",
       "      <td>6.1</td>\n",
       "      <td>13.0</td>\n",
       "    </tr>\n",
       "    <tr>\n",
       "      <th>4</th>\n",
       "      <td>tt0100275</td>\n",
       "      <td>The Wandering Soap Opera</td>\n",
       "      <td>La Telenovela Errante</td>\n",
       "      <td>2017</td>\n",
       "      <td>80.0</td>\n",
       "      <td>Comedy,Drama,Fantasy</td>\n",
       "      <td>6.5</td>\n",
       "      <td>119.0</td>\n",
       "    </tr>\n",
       "  </tbody>\n",
       "</table>\n",
       "</div>"
      ],
      "text/plain": [
       "      tconst                    primary_title              original_title  \\\n",
       "0  tt0063540                        Sunghursh                   Sunghursh   \n",
       "1  tt0066787  One Day Before the Rainy Season             Ashad Ka Ek Din   \n",
       "2  tt0069049       The Other Side of the Wind  The Other Side of the Wind   \n",
       "3  tt0069204                  Sabse Bada Sukh             Sabse Bada Sukh   \n",
       "4  tt0100275         The Wandering Soap Opera       La Telenovela Errante   \n",
       "\n",
       "   start_year  runtime_minutes                genres  averagerating  numvotes  \n",
       "0        2013            175.0    Action,Crime,Drama            7.0      77.0  \n",
       "1        2019            114.0       Biography,Drama            7.2      43.0  \n",
       "2        2018            122.0                 Drama            6.9    4517.0  \n",
       "3        2018             87.0          Comedy,Drama            6.1      13.0  \n",
       "4        2017             80.0  Comedy,Drama,Fantasy            6.5     119.0  "
      ]
     },
     "execution_count": 20,
     "metadata": {},
     "output_type": "execute_result"
    }
   ],
   "source": [
    "titles_and_ratings=pd.merge(title_basics,title_ratings, on='tconst',how='left')\n",
    "titles_and_ratings.head()"
   ]
  },
  {
   "cell_type": "markdown",
   "metadata": {},
   "source": [
    "Merging the datasets yields a single dataset for feature engineering and data analysis."
   ]
  },
  {
   "cell_type": "code",
   "execution_count": 34,
   "metadata": {},
   "outputs": [
    {
     "name": "stdout",
     "output_type": "stream",
     "text": [
      "<class 'pandas.core.frame.DataFrame'>\n",
      "Int64Index: 146144 entries, 0 to 146143\n",
      "Data columns (total 8 columns):\n",
      " #   Column           Non-Null Count   Dtype  \n",
      "---  ------           --------------   -----  \n",
      " 0   tconst           146144 non-null  object \n",
      " 1   primary_title    146144 non-null  object \n",
      " 2   original_title   146144 non-null  object \n",
      " 3   start_year       146144 non-null  int64  \n",
      " 4   runtime_minutes  146144 non-null  float64\n",
      " 5   genres           146144 non-null  object \n",
      " 6   averagerating    73856 non-null   float64\n",
      " 7   numvotes         73856 non-null   float64\n",
      "dtypes: float64(3), int64(1), object(4)\n",
      "memory usage: 10.0+ MB\n"
     ]
    }
   ],
   "source": [
    "titles_and_ratings.info()"
   ]
  },
  {
   "cell_type": "code",
   "execution_count": 35,
   "metadata": {},
   "outputs": [
    {
     "data": {
      "text/plain": [
       "tconst                 0\n",
       "primary_title          0\n",
       "original_title         0\n",
       "start_year             0\n",
       "runtime_minutes        0\n",
       "genres                 0\n",
       "averagerating      72288\n",
       "numvotes           72288\n",
       "dtype: int64"
      ]
     },
     "execution_count": 35,
     "metadata": {},
     "output_type": "execute_result"
    }
   ],
   "source": [
    "#Checking for missing values in new data set\n",
    "titles_and_ratings.isna().sum()"
   ]
  },
  {
   "cell_type": "code",
   "execution_count": 36,
   "metadata": {},
   "outputs": [],
   "source": [
    "# replacing missing average ratings and number of votes with the median\n",
    "titles_and_ratings['averagerating'].fillna(titles_and_ratings['averagerating'].median(),inplace=True)\n",
    "titles_and_ratings['numvotes'].fillna(titles_and_ratings['numvotes'].median(),inplace=True)"
   ]
  },
  {
   "cell_type": "code",
   "execution_count": 37,
   "metadata": {},
   "outputs": [
    {
     "data": {
      "text/plain": [
       "tconst             0\n",
       "primary_title      0\n",
       "original_title     0\n",
       "start_year         0\n",
       "runtime_minutes    0\n",
       "genres             0\n",
       "averagerating      0\n",
       "numvotes           0\n",
       "dtype: int64"
      ]
     },
     "execution_count": 37,
     "metadata": {},
     "output_type": "execute_result"
    }
   ],
   "source": [
    "titles_and_ratings.isna().sum()"
   ]
  },
  {
   "cell_type": "code",
   "execution_count": 38,
   "metadata": {},
   "outputs": [
    {
     "name": "stdout",
     "output_type": "stream",
     "text": [
      "<class 'pandas.core.frame.DataFrame'>\n",
      "RangeIndex: 146144 entries, 0 to 146143\n",
      "Data columns (total 6 columns):\n",
      " #   Column           Non-Null Count   Dtype  \n",
      "---  ------           --------------   -----  \n",
      " 0   tconst           146144 non-null  object \n",
      " 1   title            146144 non-null  object \n",
      " 2   original_title   146144 non-null  object \n",
      " 3   start_year       146144 non-null  int64  \n",
      " 4   runtime_minutes  146144 non-null  float64\n",
      " 5   genres           146144 non-null  object \n",
      "dtypes: float64(1), int64(1), object(4)\n",
      "memory usage: 6.7+ MB\n"
     ]
    }
   ],
   "source": [
    "#Changing name of title basics dataframe from primary title to title \n",
    "title_basics.rename(columns = {'primary_title':'title'}, inplace = True)\n",
    "title_basics.info()"
   ]
  },
  {
   "cell_type": "code",
   "execution_count": 39,
   "metadata": {},
   "outputs": [
    {
     "data": {
      "text/html": [
       "<div>\n",
       "<style scoped>\n",
       "    .dataframe tbody tr th:only-of-type {\n",
       "        vertical-align: middle;\n",
       "    }\n",
       "\n",
       "    .dataframe tbody tr th {\n",
       "        vertical-align: top;\n",
       "    }\n",
       "\n",
       "    .dataframe thead th {\n",
       "        text-align: right;\n",
       "    }\n",
       "</style>\n",
       "<table border=\"1\" class=\"dataframe\">\n",
       "  <thead>\n",
       "    <tr style=\"text-align: right;\">\n",
       "      <th></th>\n",
       "      <th>tconst</th>\n",
       "      <th>primary_title</th>\n",
       "      <th>original_title</th>\n",
       "      <th>start_year</th>\n",
       "      <th>runtime_minutes</th>\n",
       "      <th>genres</th>\n",
       "      <th>averagerating</th>\n",
       "      <th>numvotes</th>\n",
       "    </tr>\n",
       "  </thead>\n",
       "  <tbody>\n",
       "    <tr>\n",
       "      <th>146139</th>\n",
       "      <td>tt9916538</td>\n",
       "      <td>Kuambil Lagi Hatiku</td>\n",
       "      <td>Kuambil Lagi Hatiku</td>\n",
       "      <td>2019</td>\n",
       "      <td>123.0</td>\n",
       "      <td>Drama</td>\n",
       "      <td>6.5</td>\n",
       "      <td>49.0</td>\n",
       "    </tr>\n",
       "    <tr>\n",
       "      <th>146140</th>\n",
       "      <td>tt9916622</td>\n",
       "      <td>Rodolpho Teóphilo - O Legado de um Pioneiro</td>\n",
       "      <td>Rodolpho Teóphilo - O Legado de um Pioneiro</td>\n",
       "      <td>2015</td>\n",
       "      <td>87.0</td>\n",
       "      <td>Documentary</td>\n",
       "      <td>6.5</td>\n",
       "      <td>49.0</td>\n",
       "    </tr>\n",
       "    <tr>\n",
       "      <th>146141</th>\n",
       "      <td>tt9916706</td>\n",
       "      <td>Dankyavar Danka</td>\n",
       "      <td>Dankyavar Danka</td>\n",
       "      <td>2013</td>\n",
       "      <td>87.0</td>\n",
       "      <td>Comedy</td>\n",
       "      <td>6.5</td>\n",
       "      <td>49.0</td>\n",
       "    </tr>\n",
       "    <tr>\n",
       "      <th>146142</th>\n",
       "      <td>tt9916730</td>\n",
       "      <td>6 Gunn</td>\n",
       "      <td>6 Gunn</td>\n",
       "      <td>2017</td>\n",
       "      <td>116.0</td>\n",
       "      <td>Unknown</td>\n",
       "      <td>6.5</td>\n",
       "      <td>49.0</td>\n",
       "    </tr>\n",
       "    <tr>\n",
       "      <th>146143</th>\n",
       "      <td>tt9916754</td>\n",
       "      <td>Chico Albuquerque - Revelações</td>\n",
       "      <td>Chico Albuquerque - Revelações</td>\n",
       "      <td>2013</td>\n",
       "      <td>87.0</td>\n",
       "      <td>Documentary</td>\n",
       "      <td>6.5</td>\n",
       "      <td>49.0</td>\n",
       "    </tr>\n",
       "  </tbody>\n",
       "</table>\n",
       "</div>"
      ],
      "text/plain": [
       "           tconst                                primary_title  \\\n",
       "146139  tt9916538                          Kuambil Lagi Hatiku   \n",
       "146140  tt9916622  Rodolpho Teóphilo - O Legado de um Pioneiro   \n",
       "146141  tt9916706                              Dankyavar Danka   \n",
       "146142  tt9916730                                       6 Gunn   \n",
       "146143  tt9916754               Chico Albuquerque - Revelações   \n",
       "\n",
       "                                     original_title  start_year  \\\n",
       "146139                          Kuambil Lagi Hatiku        2019   \n",
       "146140  Rodolpho Teóphilo - O Legado de um Pioneiro        2015   \n",
       "146141                              Dankyavar Danka        2013   \n",
       "146142                                       6 Gunn        2017   \n",
       "146143               Chico Albuquerque - Revelações        2013   \n",
       "\n",
       "        runtime_minutes       genres  averagerating  numvotes  \n",
       "146139            123.0        Drama            6.5      49.0  \n",
       "146140             87.0  Documentary            6.5      49.0  \n",
       "146141             87.0       Comedy            6.5      49.0  \n",
       "146142            116.0      Unknown            6.5      49.0  \n",
       "146143             87.0  Documentary            6.5      49.0  "
      ]
     },
     "execution_count": 39,
     "metadata": {},
     "output_type": "execute_result"
    }
   ],
   "source": [
    "titles_and_ratings.tail()"
   ]
  },
  {
   "cell_type": "markdown",
   "metadata": {},
   "source": [
    "### Feature Engineering\n",
    " I Create a `total_gross` variable to find total gross for each title."
   ]
  },
  {
   "cell_type": "code",
   "execution_count": 40,
   "metadata": {},
   "outputs": [
    {
     "data": {
      "text/html": [
       "<div>\n",
       "<style scoped>\n",
       "    .dataframe tbody tr th:only-of-type {\n",
       "        vertical-align: middle;\n",
       "    }\n",
       "\n",
       "    .dataframe tbody tr th {\n",
       "        vertical-align: top;\n",
       "    }\n",
       "\n",
       "    .dataframe thead th {\n",
       "        text-align: right;\n",
       "    }\n",
       "</style>\n",
       "<table border=\"1\" class=\"dataframe\">\n",
       "  <thead>\n",
       "    <tr style=\"text-align: right;\">\n",
       "      <th></th>\n",
       "      <th>title</th>\n",
       "      <th>studio</th>\n",
       "      <th>domestic_gross</th>\n",
       "      <th>foreign_gross</th>\n",
       "      <th>year</th>\n",
       "      <th>total_gross</th>\n",
       "    </tr>\n",
       "  </thead>\n",
       "  <tbody>\n",
       "    <tr>\n",
       "      <th>0</th>\n",
       "      <td>Toy Story 3</td>\n",
       "      <td>BV</td>\n",
       "      <td>415000000.0</td>\n",
       "      <td>652000000.0</td>\n",
       "      <td>2010</td>\n",
       "      <td>1.067000e+09</td>\n",
       "    </tr>\n",
       "    <tr>\n",
       "      <th>1</th>\n",
       "      <td>Alice in Wonderland (2010)</td>\n",
       "      <td>BV</td>\n",
       "      <td>334200000.0</td>\n",
       "      <td>691300000.0</td>\n",
       "      <td>2010</td>\n",
       "      <td>1.025500e+09</td>\n",
       "    </tr>\n",
       "    <tr>\n",
       "      <th>2</th>\n",
       "      <td>Harry Potter and the Deathly Hallows Part 1</td>\n",
       "      <td>WB</td>\n",
       "      <td>296000000.0</td>\n",
       "      <td>664300000.0</td>\n",
       "      <td>2010</td>\n",
       "      <td>9.603000e+08</td>\n",
       "    </tr>\n",
       "    <tr>\n",
       "      <th>3</th>\n",
       "      <td>Inception</td>\n",
       "      <td>WB</td>\n",
       "      <td>292600000.0</td>\n",
       "      <td>535700000.0</td>\n",
       "      <td>2010</td>\n",
       "      <td>8.283000e+08</td>\n",
       "    </tr>\n",
       "    <tr>\n",
       "      <th>4</th>\n",
       "      <td>Shrek Forever After</td>\n",
       "      <td>P/DW</td>\n",
       "      <td>238700000.0</td>\n",
       "      <td>513900000.0</td>\n",
       "      <td>2010</td>\n",
       "      <td>7.526000e+08</td>\n",
       "    </tr>\n",
       "  </tbody>\n",
       "</table>\n",
       "</div>"
      ],
      "text/plain": [
       "                                         title studio  domestic_gross  \\\n",
       "0                                  Toy Story 3     BV     415000000.0   \n",
       "1                   Alice in Wonderland (2010)     BV     334200000.0   \n",
       "2  Harry Potter and the Deathly Hallows Part 1     WB     296000000.0   \n",
       "3                                    Inception     WB     292600000.0   \n",
       "4                          Shrek Forever After   P/DW     238700000.0   \n",
       "\n",
       "   foreign_gross  year   total_gross  \n",
       "0    652000000.0  2010  1.067000e+09  \n",
       "1    691300000.0  2010  1.025500e+09  \n",
       "2    664300000.0  2010  9.603000e+08  \n",
       "3    535700000.0  2010  8.283000e+08  \n",
       "4    513900000.0  2010  7.526000e+08  "
      ]
     },
     "execution_count": 40,
     "metadata": {},
     "output_type": "execute_result"
    }
   ],
   "source": [
    "# Creating total_gross variable to find total gross for each title\n",
    "movie_gross['total_gross']=movie_gross['domestic_gross']+movie_gross['foreign_gross']\n",
    "\n",
    "movie_gross.head()"
   ]
  },
  {
   "cell_type": "code",
   "execution_count": 22,
   "metadata": {},
   "outputs": [],
   "source": [
    "#Saving cleaned data as csv\n",
    "\n",
    "titles_and_ratings.to_csv('./cleaned_titles_and_ratings.csv')\n",
    "movie_gross.to_csv('./cleaned_movie_gross.csv')"
   ]
  },
  {
   "cell_type": "markdown",
   "metadata": {},
   "source": [
    "## Analysis"
   ]
  },
  {
   "cell_type": "code",
   "execution_count": 30,
   "metadata": {},
   "outputs": [],
   "source": [
    "import matplotlib\n",
    "import matplotlib.pyplot as plt\n",
    "\n",
    "%matplotlib inline"
   ]
  },
  {
   "cell_type": "markdown",
   "metadata": {},
   "source": [
    "### Analysis of runtime vs rating\n",
    "\n",
    "It would be important for the movie studio to know whether the movie runtime has an impact on the rating, so as to know how long the title should be. Runtime and Rating have a weak negative relationship between them meaning the value is to small\n",
    "to ascertain whether runtime affects the rating."
   ]
  },
  {
   "cell_type": "markdown",
   "metadata": {},
   "source": [
    "#### Rating Analysis"
   ]
  },
  {
   "cell_type": "code",
   "execution_count": 49,
   "metadata": {},
   "outputs": [
    {
     "data": {
      "text/plain": [
       "count    146144.000000\n",
       "mean          6.415467\n",
       "std           1.051874\n",
       "min           1.000000\n",
       "25%           6.500000\n",
       "50%           6.500000\n",
       "75%           6.500000\n",
       "max          10.000000\n",
       "Name: averagerating, dtype: float64"
      ]
     },
     "execution_count": 49,
     "metadata": {},
     "output_type": "execute_result"
    }
   ],
   "source": [
    "# Having a peak at the metrics\n",
    "titles_and_ratings['averagerating'].describe()\n"
   ]
  },
  {
   "cell_type": "code",
   "execution_count": 43,
   "metadata": {},
   "outputs": [
    {
     "data": {
      "image/png": "[encoded data removed]",
      "text/plain": [
       "<Figure size 432x288 with 1 Axes>"
      ]
     },
     "metadata": {
      "needs_background": "light"
     },
     "output_type": "display_data"
    }
   ],
   "source": [
    "# Box plot\n",
    "fig, ax =plt.subplots()\n",
    "ax.boxplot(titles_and_ratings['averagerating'],vert=False)\n",
    "plt.show()"
   ]
  },
  {
   "cell_type": "markdown",
   "metadata": {},
   "source": [
    "#### Run Time Analysis"
   ]
  },
  {
   "cell_type": "code",
   "execution_count": 45,
   "metadata": {},
   "outputs": [
    {
     "data": {
      "text/plain": [
       "count    146144.000000\n",
       "mean         86.363758\n",
       "std         147.191650\n",
       "min           1.000000\n",
       "25%          75.000000\n",
       "50%          87.000000\n",
       "75%          95.000000\n",
       "max       51420.000000\n",
       "Name: runtime_minutes, dtype: float64"
      ]
     },
     "execution_count": 45,
     "metadata": {},
     "output_type": "execute_result"
    }
   ],
   "source": [
    "# Having a peak at the metrics\n",
    "\n",
    "titles_and_ratings['runtime_minutes'].describe()"
   ]
  },
  {
   "cell_type": "code",
   "execution_count": 46,
   "metadata": {},
   "outputs": [
    {
     "data": {
      "image/png": "[encoded data removed]",
      "text/plain": [
       "<Figure size 432x288 with 1 Axes>"
      ]
     },
     "metadata": {
      "needs_background": "light"
     },
     "output_type": "display_data"
    }
   ],
   "source": [
    "# PLotting boxplot and removing the outliers to get a sense of the scale to be used in plotting the relationship scatter plot\n",
    "fig, ax =plt.subplots()\n",
    "red_square = dict(markerfacecolor='r', marker='s')\n",
    "ax.boxplot(titles_and_ratings['runtime_minutes'],vert=False,showfliers=False)\n",
    "plt.show()"
   ]
  },
  {
   "cell_type": "markdown",
   "metadata": {},
   "source": [
    "#### Runtime vs Rating"
   ]
  },
  {
   "cell_type": "code",
   "execution_count": 47,
   "metadata": {},
   "outputs": [
    {
     "data": {
      "text/plain": [
       "-0.010537960528471236"
      ]
     },
     "execution_count": 47,
     "metadata": {},
     "output_type": "execute_result"
    }
   ],
   "source": [
    "#Calculating the correlation\n",
    "runtime=titles_and_ratings['runtime_minutes']\n",
    "rating=titles_and_ratings['averagerating']\n",
    "correlation=runtime.corr(rating)\n",
    "correlation"
   ]
  },
  {
   "cell_type": "code",
   "execution_count": 48,
   "metadata": {},
   "outputs": [
    {
     "data": {
      "image/png": "[encoded data removed]",
      "text/plain": [
       "<Figure size 432x288 with 1 Axes>"
      ]
     },
     "metadata": {
      "needs_background": "light"
     },
     "output_type": "display_data"
    }
   ],
   "source": [
    "# Basic scatter plot\n",
    "\n",
    "fig, ax = plt.subplots()\n",
    "\n",
    "ax.scatter(\n",
    "    x=runtime ,\n",
    "    y=rating,\n",
    "    color=\"gray\"\n",
    ")\n",
    "plt.xlim(0,130)\n",
    "ax.set_xlabel(\"Movie Runtime\")\n",
    "ax.set_ylabel(\"Average Rating \")\n",
    "ax.set_title(\"Movie runtime vs rating\")\n",
    "plt.show()"
   ]
  },
  {
   "cell_type": "markdown",
   "metadata": {},
   "source": [
    "### Genre vs Rating Analysis\n",
    "On inspection, Action is found in most titles with an above average rating. It would therefore be smart to include some sort of action in a movie as it the most popular genre."
   ]
  },
  {
   "cell_type": "code",
   "execution_count": 50,
   "metadata": {},
   "outputs": [
    {
     "data": {
      "text/html": [
       "<div>\n",
       "<style scoped>\n",
       "    .dataframe tbody tr th:only-of-type {\n",
       "        vertical-align: middle;\n",
       "    }\n",
       "\n",
       "    .dataframe tbody tr th {\n",
       "        vertical-align: top;\n",
       "    }\n",
       "\n",
       "    .dataframe thead tr th {\n",
       "        text-align: left;\n",
       "    }\n",
       "\n",
       "    .dataframe thead tr:last-of-type th {\n",
       "        text-align: right;\n",
       "    }\n",
       "</style>\n",
       "<table border=\"1\" class=\"dataframe\">\n",
       "  <thead>\n",
       "    <tr>\n",
       "      <th></th>\n",
       "      <th colspan=\"3\" halign=\"left\">averagerating</th>\n",
       "    </tr>\n",
       "    <tr>\n",
       "      <th></th>\n",
       "      <th>count</th>\n",
       "      <th>median</th>\n",
       "      <th>mean</th>\n",
       "    </tr>\n",
       "    <tr>\n",
       "      <th>genres</th>\n",
       "      <th></th>\n",
       "      <th></th>\n",
       "      <th></th>\n",
       "    </tr>\n",
       "  </thead>\n",
       "  <tbody>\n",
       "    <tr>\n",
       "      <th>Action</th>\n",
       "      <td>2219</td>\n",
       "      <td>6.50</td>\n",
       "      <td>6.172510</td>\n",
       "    </tr>\n",
       "    <tr>\n",
       "      <th>Action,Adult,Comedy</th>\n",
       "      <td>2</td>\n",
       "      <td>4.65</td>\n",
       "      <td>4.650000</td>\n",
       "    </tr>\n",
       "    <tr>\n",
       "      <th>Action,Adventure</th>\n",
       "      <td>114</td>\n",
       "      <td>6.50</td>\n",
       "      <td>5.738596</td>\n",
       "    </tr>\n",
       "    <tr>\n",
       "      <th>Action,Adventure,Animation</th>\n",
       "      <td>197</td>\n",
       "      <td>6.60</td>\n",
       "      <td>6.553299</td>\n",
       "    </tr>\n",
       "    <tr>\n",
       "      <th>Action,Adventure,Biography</th>\n",
       "      <td>34</td>\n",
       "      <td>6.50</td>\n",
       "      <td>6.847059</td>\n",
       "    </tr>\n",
       "    <tr>\n",
       "      <th>...</th>\n",
       "      <td>...</td>\n",
       "      <td>...</td>\n",
       "      <td>...</td>\n",
       "    </tr>\n",
       "    <tr>\n",
       "      <th>Thriller,Western</th>\n",
       "      <td>4</td>\n",
       "      <td>7.15</td>\n",
       "      <td>7.150000</td>\n",
       "    </tr>\n",
       "    <tr>\n",
       "      <th>Unknown</th>\n",
       "      <td>5408</td>\n",
       "      <td>6.50</td>\n",
       "      <td>6.499427</td>\n",
       "    </tr>\n",
       "    <tr>\n",
       "      <th>War</th>\n",
       "      <td>131</td>\n",
       "      <td>6.50</td>\n",
       "      <td>6.368702</td>\n",
       "    </tr>\n",
       "    <tr>\n",
       "      <th>War,Western</th>\n",
       "      <td>1</td>\n",
       "      <td>6.50</td>\n",
       "      <td>6.500000</td>\n",
       "    </tr>\n",
       "    <tr>\n",
       "      <th>Western</th>\n",
       "      <td>142</td>\n",
       "      <td>6.50</td>\n",
       "      <td>5.727465</td>\n",
       "    </tr>\n",
       "  </tbody>\n",
       "</table>\n",
       "<p>1086 rows × 3 columns</p>\n",
       "</div>"
      ],
      "text/plain": [
       "                           averagerating                 \n",
       "                                   count median      mean\n",
       "genres                                                   \n",
       "Action                              2219   6.50  6.172510\n",
       "Action,Adult,Comedy                    2   4.65  4.650000\n",
       "Action,Adventure                     114   6.50  5.738596\n",
       "Action,Adventure,Animation           197   6.60  6.553299\n",
       "Action,Adventure,Biography            34   6.50  6.847059\n",
       "...                                  ...    ...       ...\n",
       "Thriller,Western                       4   7.15  7.150000\n",
       "Unknown                             5408   6.50  6.499427\n",
       "War                                  131   6.50  6.368702\n",
       "War,Western                            1   6.50  6.500000\n",
       "Western                              142   6.50  5.727465\n",
       "\n",
       "[1086 rows x 3 columns]"
      ]
     },
     "execution_count": 50,
     "metadata": {},
     "output_type": "execute_result"
    }
   ],
   "source": [
    "#Grouping by genres to find the median, mean and count of the average rating for each title.\n",
    "titles_and_ratings[['genres','averagerating']].groupby(['genres']).agg(['count', 'median', 'mean'])"
   ]
  },
  {
   "cell_type": "code",
   "execution_count": 52,
   "metadata": {},
   "outputs": [
    {
     "data": {
      "text/html": [
       "<div>\n",
       "<style scoped>\n",
       "    .dataframe tbody tr th:only-of-type {\n",
       "        vertical-align: middle;\n",
       "    }\n",
       "\n",
       "    .dataframe tbody tr th {\n",
       "        vertical-align: top;\n",
       "    }\n",
       "\n",
       "    .dataframe thead th {\n",
       "        text-align: right;\n",
       "    }\n",
       "</style>\n",
       "<table border=\"1\" class=\"dataframe\">\n",
       "  <thead>\n",
       "    <tr style=\"text-align: right;\">\n",
       "      <th></th>\n",
       "      <th>genres</th>\n",
       "      <th>averagerating</th>\n",
       "    </tr>\n",
       "  </thead>\n",
       "  <tbody>\n",
       "    <tr>\n",
       "      <th>0</th>\n",
       "      <td>Action</td>\n",
       "      <td>6.172510</td>\n",
       "    </tr>\n",
       "    <tr>\n",
       "      <th>1</th>\n",
       "      <td>Action,Adult,Comedy</td>\n",
       "      <td>4.650000</td>\n",
       "    </tr>\n",
       "    <tr>\n",
       "      <th>2</th>\n",
       "      <td>Action,Adventure</td>\n",
       "      <td>5.738596</td>\n",
       "    </tr>\n",
       "    <tr>\n",
       "      <th>3</th>\n",
       "      <td>Action,Adventure,Animation</td>\n",
       "      <td>6.553299</td>\n",
       "    </tr>\n",
       "    <tr>\n",
       "      <th>4</th>\n",
       "      <td>Action,Adventure,Biography</td>\n",
       "      <td>6.847059</td>\n",
       "    </tr>\n",
       "  </tbody>\n",
       "</table>\n",
       "</div>"
      ],
      "text/plain": [
       "                       genres  averagerating\n",
       "0                      Action       6.172510\n",
       "1         Action,Adult,Comedy       4.650000\n",
       "2            Action,Adventure       5.738596\n",
       "3  Action,Adventure,Animation       6.553299\n",
       "4  Action,Adventure,Biography       6.847059"
      ]
     },
     "execution_count": 52,
     "metadata": {},
     "output_type": "execute_result"
    }
   ],
   "source": [
    "#Creating a new data frame representing genres and their average rating\n",
    "grouped_data=titles_and_ratings.groupby('genres')['averagerating'].mean()\n",
    "\n",
    "grouped_df=pd.DataFrame(grouped_data)\n",
    "grouped_df.reset_index(drop = False, inplace = True)\n",
    "grouped_df.head()"
   ]
  },
  {
   "cell_type": "code",
   "execution_count": 53,
   "metadata": {},
   "outputs": [
    {
     "data": {
      "text/plain": [
       "9.0"
      ]
     },
     "execution_count": 53,
     "metadata": {},
     "output_type": "execute_result"
    }
   ],
   "source": [
    "#Finding the highest rating\n",
    "highest_rating=max(list(grouped_df['averagerating']))\n",
    "highest_rating"
   ]
  },
  {
   "cell_type": "code",
   "execution_count": 54,
   "metadata": {},
   "outputs": [
    {
     "data": {
      "text/html": [
       "<div>\n",
       "<style scoped>\n",
       "    .dataframe tbody tr th:only-of-type {\n",
       "        vertical-align: middle;\n",
       "    }\n",
       "\n",
       "    .dataframe tbody tr th {\n",
       "        vertical-align: top;\n",
       "    }\n",
       "\n",
       "    .dataframe thead th {\n",
       "        text-align: right;\n",
       "    }\n",
       "</style>\n",
       "<table border=\"1\" class=\"dataframe\">\n",
       "  <thead>\n",
       "    <tr style=\"text-align: right;\">\n",
       "      <th></th>\n",
       "      <th>genres</th>\n",
       "      <th>averagerating</th>\n",
       "    </tr>\n",
       "  </thead>\n",
       "  <tbody>\n",
       "    <tr>\n",
       "      <th>1024</th>\n",
       "      <td>Music,Mystery</td>\n",
       "      <td>9.0</td>\n",
       "    </tr>\n",
       "  </tbody>\n",
       "</table>\n",
       "</div>"
      ],
      "text/plain": [
       "             genres  averagerating\n",
       "1024  Music,Mystery            9.0"
      ]
     },
     "execution_count": 54,
     "metadata": {},
     "output_type": "execute_result"
    }
   ],
   "source": [
    "#Finding genres with the highest rating \n",
    "highest_rated_genres=grouped_df.loc[grouped_df['averagerating']== 9]\n",
    "highest_rated_genres"
   ]
  },
  {
   "cell_type": "code",
   "execution_count": 55,
   "metadata": {},
   "outputs": [
    {
     "data": {
      "text/html": [
       "<div>\n",
       "<style scoped>\n",
       "    .dataframe tbody tr th:only-of-type {\n",
       "        vertical-align: middle;\n",
       "    }\n",
       "\n",
       "    .dataframe tbody tr th {\n",
       "        vertical-align: top;\n",
       "    }\n",
       "\n",
       "    .dataframe thead th {\n",
       "        text-align: right;\n",
       "    }\n",
       "</style>\n",
       "<table border=\"1\" class=\"dataframe\">\n",
       "  <thead>\n",
       "    <tr style=\"text-align: right;\">\n",
       "      <th></th>\n",
       "      <th>genres</th>\n",
       "      <th>averagerating</th>\n",
       "    </tr>\n",
       "  </thead>\n",
       "  <tbody>\n",
       "    <tr>\n",
       "      <th>0</th>\n",
       "      <td>Action</td>\n",
       "      <td>6.172510</td>\n",
       "    </tr>\n",
       "    <tr>\n",
       "      <th>3</th>\n",
       "      <td>Action,Adventure,Animation</td>\n",
       "      <td>6.553299</td>\n",
       "    </tr>\n",
       "    <tr>\n",
       "      <th>4</th>\n",
       "      <td>Action,Adventure,Biography</td>\n",
       "      <td>6.847059</td>\n",
       "    </tr>\n",
       "    <tr>\n",
       "      <th>6</th>\n",
       "      <td>Action,Adventure,Crime</td>\n",
       "      <td>6.003846</td>\n",
       "    </tr>\n",
       "    <tr>\n",
       "      <th>7</th>\n",
       "      <td>Action,Adventure,Documentary</td>\n",
       "      <td>6.855233</td>\n",
       "    </tr>\n",
       "    <tr>\n",
       "      <th>...</th>\n",
       "      <td>...</td>\n",
       "      <td>...</td>\n",
       "    </tr>\n",
       "    <tr>\n",
       "      <th>1080</th>\n",
       "      <td>Thriller,War,Western</td>\n",
       "      <td>6.500000</td>\n",
       "    </tr>\n",
       "    <tr>\n",
       "      <th>1081</th>\n",
       "      <td>Thriller,Western</td>\n",
       "      <td>7.150000</td>\n",
       "    </tr>\n",
       "    <tr>\n",
       "      <th>1082</th>\n",
       "      <td>Unknown</td>\n",
       "      <td>6.499427</td>\n",
       "    </tr>\n",
       "    <tr>\n",
       "      <th>1083</th>\n",
       "      <td>War</td>\n",
       "      <td>6.368702</td>\n",
       "    </tr>\n",
       "    <tr>\n",
       "      <th>1084</th>\n",
       "      <td>War,Western</td>\n",
       "      <td>6.500000</td>\n",
       "    </tr>\n",
       "  </tbody>\n",
       "</table>\n",
       "<p>833 rows × 2 columns</p>\n",
       "</div>"
      ],
      "text/plain": [
       "                            genres  averagerating\n",
       "0                           Action       6.172510\n",
       "3       Action,Adventure,Animation       6.553299\n",
       "4       Action,Adventure,Biography       6.847059\n",
       "6           Action,Adventure,Crime       6.003846\n",
       "7     Action,Adventure,Documentary       6.855233\n",
       "...                            ...            ...\n",
       "1080          Thriller,War,Western       6.500000\n",
       "1081              Thriller,Western       7.150000\n",
       "1082                       Unknown       6.499427\n",
       "1083                           War       6.368702\n",
       "1084                   War,Western       6.500000\n",
       "\n",
       "[833 rows x 2 columns]"
      ]
     },
     "execution_count": 55,
     "metadata": {},
     "output_type": "execute_result"
    }
   ],
   "source": [
    "#Finding Genres with Above Average Rating as 6\n",
    "above_average_genres=grouped_df.loc[grouped_df['averagerating']>=6 ]\n",
    "above_average_genres"
   ]
  },
  {
   "cell_type": "code",
   "execution_count": 56,
   "metadata": {},
   "outputs": [
    {
     "data": {
      "text/plain": [
       "['Action',\n",
       " 'Action,Adventure,Animation',\n",
       " 'Action,Adventure,Biography',\n",
       " 'Action,Adventure,Crime',\n",
       " 'Action,Adventure,Documentary',\n",
       " 'Action,Adventure,History',\n",
       " 'Action,Adventure,Musical',\n",
       " 'Action,Adventure,Sport',\n",
       " 'Action,Adventure,Western',\n",
       " 'Action,Animation',\n",
       " 'Action,Animation,Comedy',\n",
       " 'Action,Animation,Crime',\n",
       " 'Action,Animation,Documentary',\n",
       " 'Action,Animation,Drama',\n",
       " 'Action,Animation,Fantasy',\n",
       " 'Action,Animation,History',\n",
       " 'Action,Animation,Mystery',\n",
       " 'Action,Animation,Sci-Fi',\n",
       " 'Action,Animation,Sport',\n",
       " 'Action,Animation,Thriller',\n",
       " 'Action,Animation,War',\n",
       " 'Action,Biography,Comedy',\n",
       " 'Action,Biography,Crime',\n",
       " 'Action,Biography,Documentary',\n",
       " 'Action,Biography,Drama',\n",
       " 'Action,Biography,Fantasy',\n",
       " 'Action,Biography,Thriller',\n",
       " 'Action,Comedy,Crime',\n",
       " 'Action,Comedy,Documentary',\n",
       " 'Action,Comedy,Drama',\n",
       " 'Action,Comedy,Mystery',\n",
       " 'Action,Comedy,Sci-Fi',\n",
       " 'Action,Comedy,Thriller',\n",
       " 'Action,Comedy,Western',\n",
       " 'Action,Crime',\n",
       " 'Action,Crime,Documentary',\n",
       " 'Action,Crime,Drama',\n",
       " 'Action,Crime,Music',\n",
       " 'Action,Crime,Mystery',\n",
       " 'Action,Crime,Western',\n",
       " 'Action,Documentary',\n",
       " 'Action,Documentary,Drama',\n",
       " 'Action,Documentary,Family',\n",
       " 'Action,Documentary,Fantasy',\n",
       " 'Action,Documentary,History',\n",
       " 'Action,Documentary,Horror',\n",
       " 'Action,Documentary,Music',\n",
       " 'Action,Documentary,Musical',\n",
       " 'Action,Documentary,Mystery',\n",
       " 'Action,Documentary,News',\n",
       " 'Action,Documentary,Romance',\n",
       " 'Action,Documentary,Sport',\n",
       " 'Action,Documentary,Thriller',\n",
       " 'Action,Documentary,War',\n",
       " 'Action,Documentary,Western',\n",
       " 'Action,Drama',\n",
       " 'Action,Drama,Family',\n",
       " 'Action,Drama,Fantasy',\n",
       " 'Action,Drama,History',\n",
       " 'Action,Drama,Music',\n",
       " 'Action,Drama,Musical',\n",
       " 'Action,Drama,Romance',\n",
       " 'Action,Drama,Sport',\n",
       " 'Action,Drama,Thriller',\n",
       " 'Action,Drama,War',\n",
       " 'Action,Drama,Western',\n",
       " 'Action,Family,Romance',\n",
       " 'Action,Family,Thriller',\n",
       " 'Action,Family,Western',\n",
       " 'Action,Fantasy,History',\n",
       " 'Action,Fantasy,Mystery',\n",
       " 'Action,Fantasy,Sport',\n",
       " 'Action,Fantasy,War',\n",
       " 'Action,Fantasy,Western',\n",
       " 'Action,History',\n",
       " 'Action,History,Romance',\n",
       " 'Action,History,Thriller',\n",
       " 'Action,History,War',\n",
       " 'Action,Horror,Music',\n",
       " 'Action,Horror,Romance',\n",
       " 'Action,Music,Sci-Fi',\n",
       " 'Action,Musical,Romance',\n",
       " 'Action,Musical,Sci-Fi',\n",
       " 'Action,Musical,Thriller',\n",
       " 'Action,Mystery',\n",
       " 'Action,Mystery,Thriller',\n",
       " 'Action,Romance',\n",
       " 'Action,Romance,Sci-Fi',\n",
       " 'Action,Romance,Thriller',\n",
       " 'Action,Romance,War',\n",
       " 'Action,Romance,Western',\n",
       " 'Action,Sci-Fi,Western',\n",
       " 'Action,Sport',\n",
       " 'Action,Sport,Thriller',\n",
       " 'Action,Thriller,Western',\n",
       " 'Adult,Comedy',\n",
       " 'Adult,Drama',\n",
       " 'Adult,Drama,Mystery',\n",
       " 'Adult,Drama,Romance',\n",
       " 'Adult,Romance',\n",
       " 'Adventure',\n",
       " 'Adventure,Animation,Biography',\n",
       " 'Adventure,Animation,Comedy',\n",
       " 'Adventure,Animation,Crime',\n",
       " 'Adventure,Animation,Documentary',\n",
       " 'Adventure,Animation,Drama',\n",
       " 'Adventure,Animation,Fantasy',\n",
       " 'Adventure,Animation,History',\n",
       " 'Adventure,Animation,Horror',\n",
       " 'Adventure,Animation,Mystery',\n",
       " 'Adventure,Animation,Sci-Fi',\n",
       " 'Adventure,Biography',\n",
       " 'Adventure,Biography,Comedy',\n",
       " 'Adventure,Biography,Crime',\n",
       " 'Adventure,Biography,Documentary',\n",
       " 'Adventure,Biography,Drama',\n",
       " 'Adventure,Biography,Family',\n",
       " 'Adventure,Biography,History',\n",
       " 'Adventure,Biography,Mystery',\n",
       " 'Adventure,Biography,Thriller',\n",
       " 'Adventure,Biography,Western',\n",
       " 'Adventure,Comedy',\n",
       " 'Adventure,Comedy,Documentary',\n",
       " 'Adventure,Comedy,Drama',\n",
       " 'Adventure,Comedy,Family',\n",
       " 'Adventure,Comedy,Fantasy',\n",
       " 'Adventure,Comedy,History',\n",
       " 'Adventure,Comedy,Music',\n",
       " 'Adventure,Comedy,Musical',\n",
       " 'Adventure,Comedy,Mystery',\n",
       " 'Adventure,Comedy,Reality-TV',\n",
       " 'Adventure,Comedy,Romance',\n",
       " 'Adventure,Comedy,Sci-Fi',\n",
       " 'Adventure,Comedy,Thriller',\n",
       " 'Adventure,Comedy,War',\n",
       " 'Adventure,Crime',\n",
       " 'Adventure,Crime,Documentary',\n",
       " 'Adventure,Crime,Drama',\n",
       " 'Adventure,Crime,Music',\n",
       " 'Adventure,Crime,Mystery',\n",
       " 'Adventure,Crime,Sci-Fi',\n",
       " 'Adventure,Documentary',\n",
       " 'Adventure,Documentary,Drama',\n",
       " 'Adventure,Documentary,Family',\n",
       " 'Adventure,Documentary,Fantasy',\n",
       " 'Adventure,Documentary,History',\n",
       " 'Adventure,Documentary,Horror',\n",
       " 'Adventure,Documentary,Music',\n",
       " 'Adventure,Documentary,Musical',\n",
       " 'Adventure,Documentary,Mystery',\n",
       " 'Adventure,Documentary,News',\n",
       " 'Adventure,Documentary,Reality-TV',\n",
       " 'Adventure,Documentary,Romance',\n",
       " 'Adventure,Documentary,Sci-Fi',\n",
       " 'Adventure,Documentary,Sport',\n",
       " 'Adventure,Documentary,War',\n",
       " 'Adventure,Documentary,Western',\n",
       " 'Adventure,Drama',\n",
       " 'Adventure,Drama,Family',\n",
       " 'Adventure,Drama,Fantasy',\n",
       " 'Adventure,Drama,History',\n",
       " 'Adventure,Drama,Music',\n",
       " 'Adventure,Drama,Mystery',\n",
       " 'Adventure,Drama,Romance',\n",
       " 'Adventure,Drama,Sci-Fi',\n",
       " 'Adventure,Drama,Sport',\n",
       " 'Adventure,Drama,Thriller',\n",
       " 'Adventure,Drama,War',\n",
       " 'Adventure,Drama,Western',\n",
       " 'Adventure,Family,Musical',\n",
       " 'Adventure,Family,Mystery',\n",
       " 'Adventure,Family,Sport',\n",
       " 'Adventure,Fantasy',\n",
       " 'Adventure,Fantasy,Music',\n",
       " 'Adventure,Fantasy,Musical',\n",
       " 'Adventure,Fantasy,Mystery',\n",
       " 'Adventure,Fantasy,Romance',\n",
       " 'Adventure,Fantasy,Sci-Fi',\n",
       " 'Adventure,Fantasy,Thriller',\n",
       " 'Adventure,Fantasy,War',\n",
       " 'Adventure,History',\n",
       " 'Adventure,History,Music',\n",
       " 'Adventure,History,Mystery',\n",
       " 'Adventure,History,News',\n",
       " 'Adventure,History,War',\n",
       " 'Adventure,History,Western',\n",
       " 'Adventure,Music',\n",
       " 'Adventure,Music,Mystery',\n",
       " 'Adventure,Music,Romance',\n",
       " 'Adventure,Music,Thriller',\n",
       " 'Adventure,Musical',\n",
       " 'Adventure,Musical,Romance',\n",
       " 'Adventure,Musical,Sci-Fi',\n",
       " 'Adventure,Mystery',\n",
       " 'Adventure,Mystery,Romance',\n",
       " 'Adventure,Mystery,Thriller',\n",
       " 'Adventure,News',\n",
       " 'Adventure,Romance',\n",
       " 'Adventure,Romance,Sci-Fi',\n",
       " 'Adventure,Romance,Thriller',\n",
       " 'Adventure,Sci-Fi',\n",
       " 'Adventure,Sport',\n",
       " 'Adventure,Western',\n",
       " 'Animation',\n",
       " 'Animation,Biography',\n",
       " 'Animation,Biography,Comedy',\n",
       " 'Animation,Biography,Crime',\n",
       " 'Animation,Biography,Documentary',\n",
       " 'Animation,Biography,Drama',\n",
       " 'Animation,Biography,Fantasy',\n",
       " 'Animation,Biography,History',\n",
       " 'Animation,Comedy',\n",
       " 'Animation,Comedy,Crime',\n",
       " 'Animation,Comedy,Documentary',\n",
       " 'Animation,Comedy,Drama',\n",
       " 'Animation,Comedy,Fantasy',\n",
       " 'Animation,Comedy,History',\n",
       " 'Animation,Comedy,Horror',\n",
       " 'Animation,Comedy,Music',\n",
       " 'Animation,Comedy,Mystery',\n",
       " 'Animation,Comedy,Sci-Fi',\n",
       " 'Animation,Crime',\n",
       " 'Animation,Crime,Documentary',\n",
       " 'Animation,Crime,Drama',\n",
       " 'Animation,Crime,Music',\n",
       " 'Animation,Crime,Mystery',\n",
       " 'Animation,Crime,Thriller',\n",
       " 'Animation,Documentary',\n",
       " 'Animation,Documentary,Drama',\n",
       " 'Animation,Documentary,Family',\n",
       " 'Animation,Documentary,Fantasy',\n",
       " 'Animation,Documentary,History',\n",
       " 'Animation,Documentary,Horror',\n",
       " 'Animation,Documentary,Music',\n",
       " 'Animation,Documentary,Musical',\n",
       " 'Animation,Documentary,Mystery',\n",
       " 'Animation,Documentary,News',\n",
       " 'Animation,Documentary,Sci-Fi',\n",
       " 'Animation,Documentary,Thriller',\n",
       " 'Animation,Documentary,War',\n",
       " 'Animation,Drama',\n",
       " 'Animation,Drama,Family',\n",
       " 'Animation,Drama,Fantasy',\n",
       " 'Animation,Drama,History',\n",
       " 'Animation,Drama,Horror',\n",
       " 'Animation,Drama,Music',\n",
       " 'Animation,Drama,Musical',\n",
       " 'Animation,Drama,Romance',\n",
       " 'Animation,Drama,Sci-Fi',\n",
       " 'Animation,Drama,Sport',\n",
       " 'Animation,Drama,Thriller',\n",
       " 'Animation,Drama,War',\n",
       " 'Animation,Family,Fantasy',\n",
       " 'Animation,Family,Musical',\n",
       " 'Animation,Family,Mystery',\n",
       " 'Animation,Family,Sci-Fi',\n",
       " 'Animation,Fantasy',\n",
       " 'Animation,Fantasy,Music',\n",
       " 'Animation,Fantasy,Musical',\n",
       " 'Animation,Fantasy,Mystery',\n",
       " 'Animation,Fantasy,Romance',\n",
       " 'Animation,Fantasy,Sci-Fi',\n",
       " 'Animation,Fantasy,Thriller',\n",
       " 'Animation,History',\n",
       " 'Animation,History,Horror',\n",
       " 'Animation,History,Music',\n",
       " 'Animation,Horror',\n",
       " 'Animation,Horror,Music',\n",
       " 'Animation,Horror,Sci-Fi',\n",
       " 'Animation,Music',\n",
       " 'Animation,Music,Musical',\n",
       " 'Animation,Music,Mystery',\n",
       " 'Animation,Music,Romance',\n",
       " 'Animation,Music,Sci-Fi',\n",
       " 'Animation,Music,Thriller',\n",
       " 'Animation,Musical',\n",
       " 'Animation,Musical,Sport',\n",
       " 'Animation,Mystery',\n",
       " 'Animation,Romance',\n",
       " 'Animation,Romance,Sci-Fi',\n",
       " 'Animation,Sci-Fi',\n",
       " 'Animation,Sci-Fi,Sport',\n",
       " 'Animation,Sci-Fi,Thriller',\n",
       " 'Animation,Sci-Fi,War',\n",
       " 'Animation,Short',\n",
       " 'Animation,Sport',\n",
       " 'Animation,Thriller',\n",
       " 'Animation,War',\n",
       " 'Animation,Western',\n",
       " 'Biography',\n",
       " 'Biography,Comedy',\n",
       " 'Biography,Comedy,Crime',\n",
       " 'Biography,Comedy,Documentary',\n",
       " 'Biography,Comedy,Drama',\n",
       " 'Biography,Comedy,Family',\n",
       " 'Biography,Comedy,History',\n",
       " 'Biography,Comedy,Horror',\n",
       " 'Biography,Comedy,Music',\n",
       " 'Biography,Comedy,Musical',\n",
       " 'Biography,Comedy,Reality-TV',\n",
       " 'Biography,Comedy,Romance',\n",
       " 'Biography,Comedy,Sci-Fi',\n",
       " 'Biography,Crime,Documentary',\n",
       " 'Biography,Crime,Drama',\n",
       " 'Biography,Crime,History',\n",
       " 'Biography,Crime,Romance',\n",
       " 'Biography,Documentary',\n",
       " 'Biography,Documentary,Drama',\n",
       " 'Biography,Documentary,Family',\n",
       " 'Biography,Documentary,Fantasy',\n",
       " 'Biography,Documentary,History',\n",
       " 'Biography,Documentary,Horror',\n",
       " 'Biography,Documentary,Music',\n",
       " 'Biography,Documentary,Musical',\n",
       " 'Biography,Documentary,Mystery',\n",
       " 'Biography,Documentary,News',\n",
       " 'Biography,Documentary,Romance',\n",
       " 'Biography,Documentary,Sci-Fi',\n",
       " 'Biography,Documentary,Sport',\n",
       " 'Biography,Documentary,Thriller',\n",
       " 'Biography,Documentary,War',\n",
       " 'Biography,Documentary,Western',\n",
       " 'Biography,Drama',\n",
       " 'Biography,Drama,Family',\n",
       " 'Biography,Drama,Fantasy',\n",
       " 'Biography,Drama,History',\n",
       " 'Biography,Drama,Horror',\n",
       " 'Biography,Drama,Music',\n",
       " 'Biography,Drama,Musical',\n",
       " 'Biography,Drama,Mystery',\n",
       " 'Biography,Drama,News',\n",
       " 'Biography,Drama,Romance',\n",
       " 'Biography,Drama,Sport',\n",
       " 'Biography,Drama,Thriller',\n",
       " 'Biography,Drama,War',\n",
       " 'Biography,Drama,Western',\n",
       " 'Biography,Family',\n",
       " 'Biography,Family,Fantasy',\n",
       " 'Biography,Family,History',\n",
       " 'Biography,Family,Mystery',\n",
       " 'Biography,Family,News',\n",
       " 'Biography,Family,Sport',\n",
       " 'Biography,Fantasy',\n",
       " 'Biography,Fantasy,History',\n",
       " 'Biography,Fantasy,Horror',\n",
       " 'Biography,History',\n",
       " 'Biography,History,Music',\n",
       " 'Biography,History,Musical',\n",
       " 'Biography,History,Mystery',\n",
       " 'Biography,History,News',\n",
       " 'Biography,History,Romance',\n",
       " 'Biography,History,Thriller',\n",
       " 'Biography,History,War',\n",
       " 'Biography,Music',\n",
       " 'Biography,Music,Musical',\n",
       " 'Biography,Music,Romance',\n",
       " 'Biography,Musical',\n",
       " 'Biography,Mystery,Sci-Fi',\n",
       " 'Biography,Reality-TV',\n",
       " 'Biography,Romance',\n",
       " 'Biography,Romance,War',\n",
       " 'Biography,Sport',\n",
       " 'Biography,Thriller',\n",
       " 'Biography,War',\n",
       " 'Comedy',\n",
       " 'Comedy,Crime',\n",
       " 'Comedy,Crime,Documentary',\n",
       " 'Comedy,Crime,Drama',\n",
       " 'Comedy,Crime,Family',\n",
       " 'Comedy,Crime,History',\n",
       " 'Comedy,Crime,Musical',\n",
       " 'Comedy,Crime,Mystery',\n",
       " 'Comedy,Crime,Romance',\n",
       " 'Comedy,Crime,Sci-Fi',\n",
       " 'Comedy,Crime,Thriller',\n",
       " 'Comedy,Crime,Western',\n",
       " 'Comedy,Documentary',\n",
       " 'Comedy,Documentary,Drama',\n",
       " 'Comedy,Documentary,Family',\n",
       " 'Comedy,Documentary,Fantasy',\n",
       " 'Comedy,Documentary,History',\n",
       " 'Comedy,Documentary,Horror',\n",
       " 'Comedy,Documentary,Music',\n",
       " 'Comedy,Documentary,Musical',\n",
       " 'Comedy,Documentary,Mystery',\n",
       " 'Comedy,Documentary,News',\n",
       " 'Comedy,Documentary,Reality-TV',\n",
       " 'Comedy,Documentary,Romance',\n",
       " 'Comedy,Documentary,Sci-Fi',\n",
       " 'Comedy,Documentary,Sport',\n",
       " 'Comedy,Documentary,War',\n",
       " 'Comedy,Documentary,Western',\n",
       " 'Comedy,Drama',\n",
       " 'Comedy,Drama,Family',\n",
       " 'Comedy,Drama,Fantasy',\n",
       " 'Comedy,Drama,History',\n",
       " 'Comedy,Drama,Music',\n",
       " 'Comedy,Drama,Musical',\n",
       " 'Comedy,Drama,Mystery',\n",
       " 'Comedy,Drama,News',\n",
       " 'Comedy,Drama,Reality-TV',\n",
       " 'Comedy,Drama,Romance',\n",
       " 'Comedy,Drama,Sci-Fi',\n",
       " 'Comedy,Drama,Short',\n",
       " 'Comedy,Drama,Sport',\n",
       " 'Comedy,Drama,Thriller',\n",
       " 'Comedy,Drama,Western',\n",
       " 'Comedy,Family,History',\n",
       " 'Comedy,Family,Music',\n",
       " 'Comedy,Family,Mystery',\n",
       " 'Comedy,Family,Romance',\n",
       " 'Comedy,Family,Thriller',\n",
       " 'Comedy,Family,Western',\n",
       " 'Comedy,Fantasy,History',\n",
       " 'Comedy,Fantasy,Music',\n",
       " 'Comedy,Fantasy,Musical',\n",
       " 'Comedy,Fantasy,Mystery',\n",
       " 'Comedy,Fantasy,Romance',\n",
       " 'Comedy,Fantasy,Sci-Fi',\n",
       " 'Comedy,Fantasy,Sport',\n",
       " 'Comedy,Fantasy,Thriller',\n",
       " 'Comedy,History',\n",
       " 'Comedy,History,Music',\n",
       " 'Comedy,History,Musical',\n",
       " 'Comedy,History,Mystery',\n",
       " 'Comedy,History,News',\n",
       " 'Comedy,History,Romance',\n",
       " 'Comedy,History,Sport',\n",
       " 'Comedy,History,Thriller',\n",
       " 'Comedy,History,War',\n",
       " 'Comedy,Horror,Music',\n",
       " 'Comedy,Horror,Mystery',\n",
       " 'Comedy,Horror,Reality-TV',\n",
       " 'Comedy,Music',\n",
       " 'Comedy,Music,Musical',\n",
       " 'Comedy,Music,Mystery',\n",
       " 'Comedy,Music,Romance',\n",
       " 'Comedy,Music,Sci-Fi',\n",
       " 'Comedy,Music,Thriller',\n",
       " 'Comedy,Musical',\n",
       " 'Comedy,Musical,Mystery',\n",
       " 'Comedy,Musical,Romance',\n",
       " 'Comedy,Musical,Sci-Fi',\n",
       " 'Comedy,Musical,Thriller',\n",
       " 'Comedy,Musical,Western',\n",
       " 'Comedy,Mystery',\n",
       " 'Comedy,Mystery,Romance',\n",
       " 'Comedy,Mystery,Sci-Fi',\n",
       " 'Comedy,Mystery,Thriller',\n",
       " 'Comedy,News',\n",
       " 'Comedy,Reality-TV',\n",
       " 'Comedy,Romance,Sci-Fi',\n",
       " 'Comedy,Romance,Short',\n",
       " 'Comedy,Romance,Thriller',\n",
       " 'Comedy,Sci-Fi',\n",
       " 'Comedy,Sci-Fi,Sport',\n",
       " 'Comedy,Sci-Fi,Thriller',\n",
       " 'Comedy,Sci-Fi,Western',\n",
       " 'Comedy,Short',\n",
       " 'Comedy,Sport',\n",
       " 'Comedy,Sport,Western',\n",
       " 'Comedy,Talk-Show',\n",
       " 'Comedy,Thriller',\n",
       " 'Comedy,Thriller,Western',\n",
       " 'Comedy,Western',\n",
       " 'Crime',\n",
       " 'Crime,Documentary',\n",
       " 'Crime,Documentary,Drama',\n",
       " 'Crime,Documentary,Family',\n",
       " 'Crime,Documentary,History',\n",
       " 'Crime,Documentary,Horror',\n",
       " 'Crime,Documentary,Music',\n",
       " 'Crime,Documentary,Mystery',\n",
       " 'Crime,Documentary,News',\n",
       " 'Crime,Documentary,Romance',\n",
       " 'Crime,Documentary,Sport',\n",
       " 'Crime,Documentary,Thriller',\n",
       " 'Crime,Documentary,War',\n",
       " 'Crime,Drama',\n",
       " 'Crime,Drama,Family',\n",
       " 'Crime,Drama,Fantasy',\n",
       " 'Crime,Drama,History',\n",
       " 'Crime,Drama,Music',\n",
       " 'Crime,Drama,Musical',\n",
       " 'Crime,Drama,Mystery',\n",
       " 'Crime,Drama,News',\n",
       " 'Crime,Drama,Romance',\n",
       " 'Crime,Drama,Sport',\n",
       " 'Crime,Drama,Thriller',\n",
       " 'Crime,Drama,War',\n",
       " 'Crime,Family',\n",
       " 'Crime,Family,Fantasy',\n",
       " 'Crime,Family,Thriller',\n",
       " 'Crime,Fantasy,Horror',\n",
       " 'Crime,Fantasy,Mystery',\n",
       " 'Crime,Fantasy,Thriller',\n",
       " 'Crime,Fantasy,War',\n",
       " 'Crime,History',\n",
       " 'Crime,History,Horror',\n",
       " 'Crime,History,Mystery',\n",
       " 'Crime,History,Thriller',\n",
       " 'Crime,Horror,Romance',\n",
       " 'Crime,Music,Mystery',\n",
       " 'Crime,Music,Thriller',\n",
       " 'Crime,Musical,Thriller',\n",
       " 'Crime,Mystery',\n",
       " 'Crime,Mystery,Sci-Fi',\n",
       " 'Crime,Mystery,Thriller',\n",
       " 'Crime,Romance',\n",
       " 'Crime,Romance,Western',\n",
       " 'Crime,Thriller,Western',\n",
       " 'Crime,War',\n",
       " 'Crime,Western',\n",
       " 'Documentary',\n",
       " 'Documentary,Drama',\n",
       " 'Documentary,Drama,Family',\n",
       " 'Documentary,Drama,Fantasy',\n",
       " 'Documentary,Drama,History',\n",
       " 'Documentary,Drama,Horror',\n",
       " 'Documentary,Drama,Music',\n",
       " 'Documentary,Drama,Musical',\n",
       " 'Documentary,Drama,Mystery',\n",
       " 'Documentary,Drama,News',\n",
       " 'Documentary,Drama,Reality-TV',\n",
       " 'Documentary,Drama,Romance',\n",
       " 'Documentary,Drama,Sci-Fi',\n",
       " 'Documentary,Drama,Sport',\n",
       " 'Documentary,Drama,Thriller',\n",
       " 'Documentary,Drama,War',\n",
       " 'Documentary,Family',\n",
       " 'Documentary,Family,Fantasy',\n",
       " 'Documentary,Family,History',\n",
       " 'Documentary,Family,Music',\n",
       " 'Documentary,Family,Musical',\n",
       " 'Documentary,Family,Mystery',\n",
       " 'Documentary,Family,News',\n",
       " 'Documentary,Family,Romance',\n",
       " 'Documentary,Family,Sci-Fi',\n",
       " 'Documentary,Family,Sport',\n",
       " 'Documentary,Family,War',\n",
       " 'Documentary,Family,Western',\n",
       " 'Documentary,Fantasy',\n",
       " 'Documentary,Fantasy,History',\n",
       " 'Documentary,Fantasy,Horror',\n",
       " 'Documentary,Fantasy,Music',\n",
       " 'Documentary,Fantasy,Mystery',\n",
       " 'Documentary,Fantasy,Romance',\n",
       " 'Documentary,Fantasy,Sci-Fi',\n",
       " 'Documentary,History',\n",
       " 'Documentary,History,Horror',\n",
       " 'Documentary,History,Music',\n",
       " 'Documentary,History,Musical',\n",
       " 'Documentary,History,Mystery',\n",
       " 'Documentary,History,News',\n",
       " 'Documentary,History,Reality-TV',\n",
       " 'Documentary,History,Romance',\n",
       " 'Documentary,History,Sci-Fi',\n",
       " 'Documentary,History,Sport',\n",
       " 'Documentary,History,Thriller',\n",
       " 'Documentary,History,War',\n",
       " 'Documentary,History,Western',\n",
       " 'Documentary,Horror',\n",
       " 'Documentary,Horror,Music',\n",
       " 'Documentary,Horror,Mystery',\n",
       " 'Documentary,Horror,News',\n",
       " 'Documentary,Horror,Reality-TV',\n",
       " 'Documentary,Horror,Romance',\n",
       " 'Documentary,Horror,Sci-Fi',\n",
       " 'Documentary,Horror,Thriller',\n",
       " 'Documentary,Music',\n",
       " 'Documentary,Music,Musical',\n",
       " 'Documentary,Music,Mystery',\n",
       " 'Documentary,Music,News',\n",
       " 'Documentary,Music,Reality-TV',\n",
       " 'Documentary,Music,Romance',\n",
       " 'Documentary,Music,Sci-Fi',\n",
       " 'Documentary,Music,Sport',\n",
       " 'Documentary,Music,War',\n",
       " 'Documentary,Music,Western',\n",
       " 'Documentary,Musical',\n",
       " 'Documentary,Musical,Mystery',\n",
       " 'Documentary,Musical,News',\n",
       " 'Documentary,Musical,Sci-Fi',\n",
       " 'Documentary,Musical,Sport',\n",
       " 'Documentary,Musical,War',\n",
       " 'Documentary,Mystery',\n",
       " 'Documentary,Mystery,News',\n",
       " 'Documentary,Mystery,Romance',\n",
       " 'Documentary,Mystery,Sci-Fi',\n",
       " 'Documentary,Mystery,Thriller',\n",
       " 'Documentary,Mystery,War',\n",
       " 'Documentary,News',\n",
       " 'Documentary,News,Reality-TV',\n",
       " 'Documentary,News,Romance',\n",
       " 'Documentary,News,Sci-Fi',\n",
       " 'Documentary,News,Sport',\n",
       " 'Documentary,News,Thriller',\n",
       " 'Documentary,News,War',\n",
       " 'Documentary,News,Western',\n",
       " 'Documentary,Reality-TV',\n",
       " 'Documentary,Reality-TV,Sport',\n",
       " 'Documentary,Romance',\n",
       " 'Documentary,Romance,Sport',\n",
       " 'Documentary,Sci-Fi',\n",
       " 'Documentary,Sport',\n",
       " 'Documentary,Sport,Thriller',\n",
       " 'Documentary,Sport,War',\n",
       " 'Documentary,Sport,Western',\n",
       " 'Documentary,Talk-Show',\n",
       " 'Documentary,Thriller',\n",
       " 'Documentary,War',\n",
       " 'Documentary,Western',\n",
       " 'Drama',\n",
       " 'Drama,Family',\n",
       " 'Drama,Family,Fantasy',\n",
       " 'Drama,Family,History',\n",
       " 'Drama,Family,Horror',\n",
       " 'Drama,Family,Music',\n",
       " 'Drama,Family,Musical',\n",
       " 'Drama,Family,Mystery',\n",
       " 'Drama,Family,News',\n",
       " 'Drama,Family,Romance',\n",
       " 'Drama,Family,Short',\n",
       " 'Drama,Family,Sport',\n",
       " 'Drama,Family,Thriller',\n",
       " 'Drama,Family,War',\n",
       " 'Drama,Family,Western',\n",
       " 'Drama,Fantasy',\n",
       " 'Drama,Fantasy,History',\n",
       " 'Drama,Fantasy,Music',\n",
       " 'Drama,Fantasy,Musical',\n",
       " 'Drama,Fantasy,Mystery',\n",
       " 'Drama,Fantasy,Romance',\n",
       " 'Drama,Fantasy,Sci-Fi',\n",
       " 'Drama,Fantasy,Sport',\n",
       " 'Drama,Fantasy,Thriller',\n",
       " 'Drama,Fantasy,War',\n",
       " 'Drama,Fantasy,Western',\n",
       " 'Drama,History',\n",
       " 'Drama,History,Horror',\n",
       " 'Drama,History,Music',\n",
       " 'Drama,History,Musical',\n",
       " 'Drama,History,Mystery',\n",
       " 'Drama,History,News',\n",
       " 'Drama,History,Romance',\n",
       " 'Drama,History,Sport',\n",
       " 'Drama,History,Thriller',\n",
       " 'Drama,History,War',\n",
       " 'Drama,History,Western',\n",
       " 'Drama,Horror,Music',\n",
       " 'Drama,Horror,Musical',\n",
       " 'Drama,Horror,Short',\n",
       " 'Drama,Horror,Sport',\n",
       " 'Drama,Horror,War',\n",
       " 'Drama,Music',\n",
       " 'Drama,Music,Musical',\n",
       " 'Drama,Music,Mystery',\n",
       " 'Drama,Music,Romance',\n",
       " 'Drama,Music,Sci-Fi',\n",
       " 'Drama,Music,Thriller',\n",
       " 'Drama,Music,War',\n",
       " 'Drama,Musical',\n",
       " 'Drama,Musical,Romance',\n",
       " 'Drama,Musical,Sci-Fi',\n",
       " 'Drama,Musical,Thriller',\n",
       " 'Drama,Musical,War',\n",
       " 'Drama,Musical,Western',\n",
       " 'Drama,Mystery',\n",
       " 'Drama,Mystery,News',\n",
       " 'Drama,Mystery,Romance',\n",
       " 'Drama,Mystery,Sci-Fi',\n",
       " 'Drama,Mystery,Sport',\n",
       " 'Drama,Mystery,Thriller',\n",
       " 'Drama,Mystery,War',\n",
       " 'Drama,News',\n",
       " 'Drama,News,Sci-Fi',\n",
       " 'Drama,News,Thriller',\n",
       " 'Drama,News,War',\n",
       " 'Drama,Romance',\n",
       " 'Drama,Romance,Sci-Fi',\n",
       " 'Drama,Romance,Sport',\n",
       " 'Drama,Romance,Thriller',\n",
       " 'Drama,Romance,War',\n",
       " 'Drama,Sci-Fi',\n",
       " 'Drama,Sci-Fi,Sport',\n",
       " 'Drama,Sci-Fi,War',\n",
       " 'Drama,Short',\n",
       " 'Drama,Short,Western',\n",
       " 'Drama,Sport',\n",
       " 'Drama,Sport,Thriller',\n",
       " 'Drama,Thriller',\n",
       " 'Drama,Thriller,War',\n",
       " 'Drama,Thriller,Western',\n",
       " 'Drama,War',\n",
       " 'Drama,War,Western',\n",
       " 'Drama,Western',\n",
       " 'Family',\n",
       " 'Family,Fantasy,History',\n",
       " 'Family,Fantasy,Music',\n",
       " 'Family,Fantasy,Musical',\n",
       " 'Family,Fantasy,Romance',\n",
       " 'Family,Fantasy,Sci-Fi',\n",
       " 'Family,Fantasy,Western',\n",
       " 'Family,History',\n",
       " 'Family,History,Mystery',\n",
       " 'Family,History,Romance',\n",
       " 'Family,History,War',\n",
       " 'Family,Horror',\n",
       " 'Family,Music',\n",
       " 'Family,Music,Musical',\n",
       " 'Family,Music,Romance',\n",
       " 'Family,Musical',\n",
       " 'Family,Musical,Sport',\n",
       " 'Family,Mystery',\n",
       " 'Family,News',\n",
       " 'Family,Romance',\n",
       " 'Family,Romance,Sport',\n",
       " 'Family,Sport',\n",
       " 'Family,War',\n",
       " 'Fantasy',\n",
       " 'Fantasy,History',\n",
       " 'Fantasy,History,Horror',\n",
       " 'Fantasy,History,Music',\n",
       " 'Fantasy,History,Musical',\n",
       " 'Fantasy,History,Romance',\n",
       " 'Fantasy,History,Sci-Fi',\n",
       " 'Fantasy,History,War',\n",
       " 'Fantasy,Horror,Music',\n",
       " 'Fantasy,Horror,Romance',\n",
       " 'Fantasy,Music',\n",
       " 'Fantasy,Music,Musical',\n",
       " 'Fantasy,Music,Mystery',\n",
       " 'Fantasy,Music,Romance',\n",
       " 'Fantasy,Music,Sci-Fi',\n",
       " 'Fantasy,Music,Thriller',\n",
       " 'Fantasy,Musical',\n",
       " 'Fantasy,Musical,Mystery',\n",
       " 'Fantasy,Musical,Romance',\n",
       " 'Fantasy,Musical,Sci-Fi',\n",
       " 'Fantasy,Mystery',\n",
       " 'Fantasy,Mystery,Sci-Fi',\n",
       " 'Fantasy,Mystery,Thriller',\n",
       " 'Fantasy,Romance',\n",
       " 'Fantasy,Romance,Sci-Fi',\n",
       " 'Fantasy,Romance,Thriller',\n",
       " 'Fantasy,Sci-Fi',\n",
       " 'Fantasy,War',\n",
       " 'Fantasy,Western',\n",
       " 'Game-Show',\n",
       " 'History',\n",
       " 'History,Music',\n",
       " 'History,Music,Sci-Fi',\n",
       " 'History,Musical',\n",
       " 'History,Musical,Romance',\n",
       " 'History,Mystery',\n",
       " 'History,Mystery,Romance',\n",
       " 'History,Mystery,Thriller',\n",
       " 'History,News,War',\n",
       " 'History,Reality-TV,War',\n",
       " 'History,Romance',\n",
       " 'History,Romance,Thriller',\n",
       " 'History,Romance,War',\n",
       " 'History,Romance,Western',\n",
       " 'History,Sci-Fi',\n",
       " 'History,Sport',\n",
       " 'History,Thriller',\n",
       " 'History,War',\n",
       " 'History,Western',\n",
       " 'Horror,Music',\n",
       " 'Horror,Music,Mystery',\n",
       " 'Horror,Music,Thriller',\n",
       " 'Horror,Musical,Thriller',\n",
       " 'Horror,Reality-TV,Thriller',\n",
       " 'Horror,Talk-Show',\n",
       " 'Horror,Thriller,Western',\n",
       " 'Music',\n",
       " 'Music,Musical',\n",
       " 'Music,Musical,Mystery',\n",
       " 'Music,Musical,Reality-TV',\n",
       " 'Music,Musical,Romance',\n",
       " 'Music,Musical,Thriller',\n",
       " 'Music,Mystery',\n",
       " 'Music,Mystery,Romance',\n",
       " 'Music,Mystery,Thriller',\n",
       " 'Music,Reality-TV',\n",
       " 'Music,Romance',\n",
       " 'Music,Sci-Fi',\n",
       " 'Music,Sci-Fi,Thriller',\n",
       " 'Music,Sport',\n",
       " 'Music,War',\n",
       " 'Musical',\n",
       " 'Musical,Mystery',\n",
       " 'Musical,Mystery,Sci-Fi',\n",
       " 'Musical,Reality-TV',\n",
       " 'Musical,Romance',\n",
       " 'Musical,Romance,Sport',\n",
       " 'Musical,Sci-Fi',\n",
       " 'Musical,Thriller',\n",
       " 'Mystery',\n",
       " 'Mystery,News,Thriller',\n",
       " 'Mystery,Reality-TV,Thriller',\n",
       " 'Mystery,Romance',\n",
       " 'Mystery,Romance,Sci-Fi',\n",
       " 'Mystery,Romance,Thriller',\n",
       " 'Mystery,Sci-Fi',\n",
       " 'Mystery,Thriller',\n",
       " 'Mystery,Thriller,War',\n",
       " 'Mystery,War',\n",
       " 'News',\n",
       " 'News,Talk-Show',\n",
       " 'Reality-TV',\n",
       " 'Reality-TV,Sport',\n",
       " 'Reality-TV,Talk-Show',\n",
       " 'Romance',\n",
       " 'Romance,Sci-Fi',\n",
       " 'Romance,Sci-Fi,Thriller',\n",
       " 'Romance,Sport',\n",
       " 'Romance,Thriller,War',\n",
       " 'Romance,War',\n",
       " 'Romance,Western',\n",
       " 'Sci-Fi',\n",
       " 'Sci-Fi,War',\n",
       " 'Sci-Fi,Western',\n",
       " 'Short,Thriller',\n",
       " 'Sport',\n",
       " 'Sport,Talk-Show',\n",
       " 'Talk-Show',\n",
       " 'Thriller',\n",
       " 'Thriller,War,Western',\n",
       " 'Thriller,Western',\n",
       " 'Unknown',\n",
       " 'War',\n",
       " 'War,Western']"
      ]
     },
     "execution_count": 56,
     "metadata": {},
     "output_type": "execute_result"
    }
   ],
   "source": [
    "# Creating a list of the above average genres that could be recommended to the studio\n",
    "recommended_genres_list=list(above_average_genres['genres'])\n",
    "recommended_genres_list"
   ]
  },
  {
   "cell_type": "markdown",
   "metadata": {},
   "source": [
    "### Analysis of  number of votes vs average rating \n",
    "\n",
    "There is a low positive correlation between the number of votes and average rating, meaning the value is to small to ascertain whether the number of votees affects the rating.The scatter plot confirms the same. This also means we could rely on the ratings with a lower number of votes."
   ]
  },
  {
   "cell_type": "markdown",
   "metadata": {},
   "source": [
    "#### Number of Votes Analysis"
   ]
  },
  {
   "cell_type": "code",
   "execution_count": 57,
   "metadata": {},
   "outputs": [
    {
     "data": {
      "text/plain": [
       "count     146144.000\n",
       "mean        1804.971\n",
       "std        21605.602\n",
       "min            5.000\n",
       "25%           48.000\n",
       "50%           49.000\n",
       "75%           51.000\n",
       "max      1841066.000\n",
       "Name: numvotes, dtype: float64"
      ]
     },
     "execution_count": 57,
     "metadata": {},
     "output_type": "execute_result"
    }
   ],
   "source": [
    "#Having a peak at the metrics\n",
    "titles_and_ratings['numvotes'].describe().round(3)\n"
   ]
  },
  {
   "cell_type": "code",
   "execution_count": 58,
   "metadata": {},
   "outputs": [
    {
     "data": {
      "image/png": "[encoded data removed]",
      "text/plain": [
       "<Figure size 432x288 with 1 Axes>"
      ]
     },
     "metadata": {
      "needs_background": "light"
     },
     "output_type": "display_data"
    }
   ],
   "source": [
    "# PLotting boxplot and removing the outliers to get a sense of the scale to be used in plotting the relationship scatter plot\n",
    "fig, ax =plt.subplots()\n",
    "red_square = dict(markerfacecolor='r', marker='s')\n",
    "ax.boxplot(titles_and_ratings['numvotes'],vert=False,showfliers=False)\n",
    "plt.show()"
   ]
  },
  {
   "cell_type": "markdown",
   "metadata": {},
   "source": [
    "#### Average Rating Analysis"
   ]
  },
  {
   "cell_type": "code",
   "execution_count": 59,
   "metadata": {},
   "outputs": [
    {
     "data": {
      "text/plain": [
       "count    146144.000000\n",
       "mean          6.415467\n",
       "std           1.051874\n",
       "min           1.000000\n",
       "25%           6.500000\n",
       "50%           6.500000\n",
       "75%           6.500000\n",
       "max          10.000000\n",
       "Name: averagerating, dtype: float64"
      ]
     },
     "execution_count": 59,
     "metadata": {},
     "output_type": "execute_result"
    }
   ],
   "source": [
    "#Having a peak at the metrics\n",
    "titles_and_ratings['averagerating'].describe()"
   ]
  },
  {
   "cell_type": "code",
   "execution_count": 60,
   "metadata": {},
   "outputs": [
    {
     "data": {
      "image/png": "[encoded data removed]",
      "text/plain": [
       "<Figure size 432x288 with 1 Axes>"
      ]
     },
     "metadata": {
      "needs_background": "light"
     },
     "output_type": "display_data"
    }
   ],
   "source": [
    "#Box plot\n",
    "fig, ax =plt.subplots()\n",
    "red_square = dict(markerfacecolor='r', marker='s')\n",
    "ax.boxplot(titles_and_ratings['averagerating'],vert=False)\n",
    "plt.show()"
   ]
  },
  {
   "cell_type": "markdown",
   "metadata": {},
   "source": [
    " #### Number of Votes vs Average Rating "
   ]
  },
  {
   "cell_type": "code",
   "execution_count": 61,
   "metadata": {},
   "outputs": [
    {
     "data": {
      "text/plain": [
       "0.037800839922792505"
      ]
     },
     "execution_count": 61,
     "metadata": {},
     "output_type": "execute_result"
    }
   ],
   "source": [
    "# Calculatng correlation between average rating and number of votes \n",
    "votes_number=titles_and_ratings['numvotes']\n",
    "rating=titles_and_ratings['averagerating']\n",
    "correlation=votes_number.corr(rating)\n",
    "correlation"
   ]
  },
  {
   "cell_type": "code",
   "execution_count": 62,
   "metadata": {},
   "outputs": [
    {
     "data": {
      "image/png": "[encoded data removed]",
      "text/plain": [
       "<Figure size 432x288 with 1 Axes>"
      ]
     },
     "metadata": {
      "needs_background": "light"
     },
     "output_type": "display_data"
    }
   ],
   "source": [
    "# Basic scatter plot\n",
    "\n",
    "fig, ax = plt.subplots()\n",
    "\n",
    "\n",
    "ax.scatter(\n",
    "    x=votes_number,\n",
    "    y=rating,\n",
    "    color=\"gray\"\n",
    " \n",
    ")\n",
    "\n",
    "ax.set_xlabel(\"Number of votes\")\n",
    "ax.set_ylabel(\"Average Rating \")\n",
    "ax.set_title(\"Number of votes vs rating\")\n",
    "plt.show()"
   ]
  },
  {
   "cell_type": "markdown",
   "metadata": {},
   "source": [
    "### Domestic vs Foreign gross Trends\n",
    "Domestic gross appears to be inconsistent from 2010-2018. Foreign gross however, seems to be more consistent \n",
    "and higher as compared to Domestic gross."
   ]
  },
  {
   "cell_type": "markdown",
   "metadata": {},
   "source": [
    "##### Domestic gross"
   ]
  },
  {
   "cell_type": "code",
   "execution_count": 63,
   "metadata": {},
   "outputs": [
    {
     "data": {
      "image/png": "[encoded data removed]",
      "text/plain": [
       "<Figure size 432x288 with 1 Axes>"
      ]
     },
     "metadata": {
      "needs_background": "light"
     },
     "output_type": "display_data"
    }
   ],
   "source": [
    "domestic_gross=movie_gross['domestic_gross']\n",
    "foreign_gross=movie_gross['foreign_gross']\n",
    "year=movie_gross['year']\n",
    "\n",
    "fig,ax=plt.subplots()\n",
    "ax.bar(year,domestic_gross)\n",
    "plt.show()"
   ]
  },
  {
   "cell_type": "markdown",
   "metadata": {},
   "source": [
    "#### Foreign gross"
   ]
  },
  {
   "cell_type": "code",
   "execution_count": 64,
   "metadata": {},
   "outputs": [
    {
     "data": {
      "image/png": "[encoded data removed]",
      "text/plain": [
       "<Figure size 432x288 with 1 Axes>"
      ]
     },
     "metadata": {
      "needs_background": "light"
     },
     "output_type": "display_data"
    }
   ],
   "source": [
    "\n",
    "fig,ax=plt.subplots()\n",
    "ax.bar(year,foreign_gross)\n",
    "plt.show()\n"
   ]
  },
  {
   "cell_type": "markdown",
   "metadata": {},
   "source": [
    "## Conclusions\n",
    "\n",
    "This analysis leads to three recommendations for the Microsoft Movie Studio Startup:\n",
    "\n",
    "- **Action should be included in most movie titles.** Most movies with an above average rating of six have Action included in their genre list.This shows that Action is popular amongst most movie audiences\n",
    "- **Focus on the foreign markets as well.** The foreign market is good for the business as the foreign gross is more consistent and higher as compared to the domestic gross.\n",
    "- **Movie runtime could be fairly long or take an average runtime.** Runtime does not seem to have much of an impact on the rating.Therefore, runtime could be fairly long or average. The content delivered is what would matter the most."
   ]
  },
  {
   "cell_type": "markdown",
   "metadata": {},
   "source": [
    "### Next Steps\n",
    "\n",
    "Further analyses could yield additional insights to:\n",
    "\n",
    "- **Predicting the best list of genres to include in a movie foer each market.** Being able to predict this would enable the movie studio to make titles specifically tailored for either foreign or domestic markets"
   ]
  },
  {
   "cell_type": "code",
   "execution_count": null,
   "metadata": {},
   "outputs": [],
   "source": []
  }
 ],
 "metadata": {
  "interpreter": {
   "hash": "ff2c9642772d15e6cae971eb0450df2b266e0ab06a6c8694c2621a47dc9f7ac7"
  },
  "kernelspec": {
   "display_name": "Python 3.8.5 ('learn-env')",
   "language": "python",
   "name": "python3"
  },
  "language_info": {
   "codemirror_mode": {
    "name": "ipython",
    "version": 3
   },
   "file_extension": ".py",
   "mimetype": "text/x-python",
   "name": "python",
   "nbconvert_exporter": "python",
   "pygments_lexer": "ipython3",
   "version": "3.8.5"
  },
  "orig_nbformat": 4
 },
 "nbformat": 4,
 "nbformat_minor": 2
}
